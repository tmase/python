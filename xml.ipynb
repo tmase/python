{
 "cells": [
  {
   "cell_type": "code",
   "execution_count": 28,
   "metadata": {},
   "outputs": [],
   "source": [
    "#Import libraries\n",
    "import pandas as pd\n",
    "import os\n",
    "import glob\n",
    "import xml.etree.ElementTree as et"
   ]
  },
  {
   "cell_type": "code",
   "execution_count": 29,
   "metadata": {},
   "outputs": [],
   "source": [
    "#Change to directory with xml files in it\n",
    "os.chdir('YOUR_FILE_DIRECTORY')\n",
    "#Create blank list to hold dictionaries\n",
    "data_list = []\n",
    "for files in glob.iglob('*.xml'):\n",
    "    tree = et.parse(files)\n",
    "    root = tree.getroot()\n",
    "    for comp in root.iter('{http://www.irs.gov/efile}Form990PartVIISectionAGrp'):\n",
    "        try:\n",
    "            name = comp.find('{http://www.irs.gov/efile}PersonNm').text\n",
    "            title = comp.find('{http://www.irs.gov/efile}TitleTxt').text\n",
    "            comp_from_org = comp.find('{http://www.irs.gov/efile}ReportableCompFromOrgAmt').text\n",
    "            comp_from_rltd = comp.find('{http://www.irs.gov/efile}ReportableCompFromRltdOrgAmt').text\n",
    "            oth_comp = comp.find('{http://www.irs.gov/efile}OtherCompensationAmt').text\n",
    "            #Create dictionary and append to list\n",
    "            data_dict = dict(name=name,title=title,comp_org=comp_from_org,comp_rltd=comp_from_rltd,comp_oth=oth_comp)\n",
    "            data_list.append(data_dict)\n",
    "        except(AttributeError):\n",
    "            pass"
   ]
  },
  {
   "cell_type": "code",
   "execution_count": 30,
   "metadata": {},
   "outputs": [],
   "source": [
    "df = pd.DataFrame(data_list)"
   ]
  },
  {
   "cell_type": "code",
   "execution_count": 31,
   "metadata": {},
   "outputs": [
    {
     "data": {
      "text/html": [
       "<div>\n",
       "<style scoped>\n",
       "    .dataframe tbody tr th:only-of-type {\n",
       "        vertical-align: middle;\n",
       "    }\n",
       "\n",
       "    .dataframe tbody tr th {\n",
       "        vertical-align: top;\n",
       "    }\n",
       "\n",
       "    .dataframe thead th {\n",
       "        text-align: right;\n",
       "    }\n",
       "</style>\n",
       "<table border=\"1\" class=\"dataframe\">\n",
       "  <thead>\n",
       "    <tr style=\"text-align: right;\">\n",
       "      <th></th>\n",
       "      <th>comp_org</th>\n",
       "      <th>comp_oth</th>\n",
       "      <th>comp_rltd</th>\n",
       "      <th>name</th>\n",
       "      <th>title</th>\n",
       "    </tr>\n",
       "  </thead>\n",
       "  <tbody>\n",
       "    <tr>\n",
       "      <th>0</th>\n",
       "      <td>0</td>\n",
       "      <td>0</td>\n",
       "      <td>0</td>\n",
       "      <td>FRANK CEBULAR</td>\n",
       "      <td>SECRETARY</td>\n",
       "    </tr>\n",
       "    <tr>\n",
       "      <th>1</th>\n",
       "      <td>0</td>\n",
       "      <td>0</td>\n",
       "      <td>0</td>\n",
       "      <td>MARY ANN GLOCKER</td>\n",
       "      <td>PRESIDENT</td>\n",
       "    </tr>\n",
       "    <tr>\n",
       "      <th>2</th>\n",
       "      <td>0</td>\n",
       "      <td>0</td>\n",
       "      <td>0</td>\n",
       "      <td>PAUL KENNEDY</td>\n",
       "      <td>BOARD MEMBER</td>\n",
       "    </tr>\n",
       "    <tr>\n",
       "      <th>3</th>\n",
       "      <td>0</td>\n",
       "      <td>0</td>\n",
       "      <td>0</td>\n",
       "      <td>RICHARD KNARR</td>\n",
       "      <td>BOARD MEMBER</td>\n",
       "    </tr>\n",
       "    <tr>\n",
       "      <th>4</th>\n",
       "      <td>0</td>\n",
       "      <td>0</td>\n",
       "      <td>0</td>\n",
       "      <td>AMY LEHMAN</td>\n",
       "      <td>BOARD MEMBER</td>\n",
       "    </tr>\n",
       "  </tbody>\n",
       "</table>\n",
       "</div>"
      ],
      "text/plain": [
       "  comp_org comp_oth comp_rltd              name         title\n",
       "0        0        0         0     FRANK CEBULAR     SECRETARY\n",
       "1        0        0         0  MARY ANN GLOCKER     PRESIDENT\n",
       "2        0        0         0      PAUL KENNEDY  BOARD MEMBER\n",
       "3        0        0         0     RICHARD KNARR  BOARD MEMBER\n",
       "4        0        0         0        AMY LEHMAN  BOARD MEMBER"
      ]
     },
     "execution_count": 31,
     "metadata": {},
     "output_type": "execute_result"
    }
   ],
   "source": [
    "df.head()"
   ]
  },
  {
   "cell_type": "code",
   "execution_count": 8,
   "metadata": {},
   "outputs": [],
   "source": [
    "#Export to csv file\n",
    "df.to_csv('nonprofit.csv')"
   ]
  },
  {
   "cell_type": "code",
   "execution_count": null,
   "metadata": {},
   "outputs": [],
   "source": [
    "df.sort_values(['comp_org'], ascending=False)"
   ]
  }
 ],
 "metadata": {
  "kernelspec": {
   "display_name": "Python 3",
   "language": "python",
   "name": "python3"
  },
  "language_info": {
   "codemirror_mode": {
    "name": "ipython",
    "version": 3
   },
   "file_extension": ".py",
   "mimetype": "text/x-python",
   "name": "python",
   "nbconvert_exporter": "python",
   "pygments_lexer": "ipython3",
   "version": "3.6.5"
  }
 },
 "nbformat": 4,
 "nbformat_minor": 2
}
