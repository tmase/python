{
 "cells": [
  {
   "cell_type": "markdown",
   "metadata": {},
   "source": [
    "Data comes from the U.S. Patent Office's bulk download api\n",
    "https://developer.uspto.gov/ibd-api-docs/#!/bulkdata/searchAll"
   ]
  },
  {
   "cell_type": "code",
   "execution_count": 1,
   "metadata": {},
   "outputs": [],
   "source": [
    "import requests"
   ]
  },
  {
   "cell_type": "markdown",
   "metadata": {},
   "source": [
    "Search Title of Invention, Abstract, Application Number, Patent Number, Application Type, applicant, inventor and/or assignee. Phrase search is also supported (Example \"Fehr, John\")."
   ]
  },
  {
   "cell_type": "code",
   "execution_count": 141,
   "metadata": {},
   "outputs": [],
   "source": [
    "searchText = 'telematic'\n",
    "url = 'https://developer.uspto.gov/ibd-api/v1/patent/application?searchText=' + searchText + '&start=0&rows=1500'\n",
    "req = requests.request('GET', url)\n",
    "#Make sure api call worked. Response of 200 means it was successful.\n",
    "print(req)"
   ]
  },
  {
   "cell_type": "code",
   "execution_count": 143,
   "metadata": {},
   "outputs": [
    {
     "name": "stdout",
     "output_type": "stream",
     "text": [
      "Num rows: 1454\n"
     ]
    }
   ],
   "source": [
    "#Output json\n",
    "json_data = req.json()\n",
    "#Select the docs section\n",
    "print(\"Num rows: \" + str(json_data['response']['numFound']))\n",
    "docs = json_data['response']['docs']"
   ]
  },
  {
   "cell_type": "code",
   "execution_count": 144,
   "metadata": {
    "scrolled": true
   },
   "outputs": [
    {
     "data": {
      "text/html": [
       "<div>\n",
       "<style scoped>\n",
       "    .dataframe tbody tr th:only-of-type {\n",
       "        vertical-align: middle;\n",
       "    }\n",
       "\n",
       "    .dataframe tbody tr th {\n",
       "        vertical-align: top;\n",
       "    }\n",
       "\n",
       "    .dataframe thead th {\n",
       "        text-align: right;\n",
       "    }\n",
       "</style>\n",
       "<table border=\"1\" class=\"dataframe\">\n",
       "  <thead>\n",
       "    <tr style=\"text-align: right;\">\n",
       "      <th></th>\n",
       "      <th>_version_</th>\n",
       "      <th>applicant</th>\n",
       "      <th>applicationDate</th>\n",
       "      <th>applicationNumber</th>\n",
       "      <th>applicationType</th>\n",
       "      <th>archiveUrl</th>\n",
       "      <th>assignee</th>\n",
       "      <th>documentDate</th>\n",
       "      <th>documentId</th>\n",
       "      <th>documentType</th>\n",
       "      <th>inventor</th>\n",
       "      <th>patentNumber</th>\n",
       "      <th>pdfPath</th>\n",
       "      <th>productionDate</th>\n",
       "      <th>publicationDate</th>\n",
       "      <th>title</th>\n",
       "      <th>year</th>\n",
       "    </tr>\n",
       "  </thead>\n",
       "  <tbody>\n",
       "    <tr>\n",
       "      <th>0</th>\n",
       "      <td>1604349225610510336</td>\n",
       "      <td>[MOJ.IO INC.]</td>\n",
       "      <td>2014-11-12T00:00:00Z</td>\n",
       "      <td>US14539799</td>\n",
       "      <td>UTILITY</td>\n",
       "      <td>https://bulkdata.uspto.gov/data/patent/grant/r...</td>\n",
       "      <td>[Moj.io Inc.]</td>\n",
       "      <td>2018-06-26T00:00:00Z</td>\n",
       "      <td>US10006782B2</td>\n",
       "      <td>grant</td>\n",
       "      <td>[Lovell, Robb E.]</td>\n",
       "      <td>10006782</td>\n",
       "      <td>NOTAVAILABLE</td>\n",
       "      <td>2018-06-11T00:00:00Z</td>\n",
       "      <td>2018-06-26T00:00:00Z</td>\n",
       "      <td>Characterization of Sensor Data for Vehicle Te...</td>\n",
       "      <td>2018</td>\n",
       "    </tr>\n",
       "    <tr>\n",
       "      <th>1</th>\n",
       "      <td>1604354880307200000</td>\n",
       "      <td>[Sirius XM Radio Inc.]</td>\n",
       "      <td>2012-12-06T00:00:00Z</td>\n",
       "      <td>US14359535</td>\n",
       "      <td>UTILITY</td>\n",
       "      <td>https://bulkdata.uspto.gov/data/patent/grant/r...</td>\n",
       "      <td>[Sirius XM Radio Inc.]</td>\n",
       "      <td>2018-06-26T00:00:00Z</td>\n",
       "      <td>US10009714B2</td>\n",
       "      <td>grant</td>\n",
       "      <td>[Marko, Paul D.]</td>\n",
       "      <td>10009714</td>\n",
       "      <td>NOTAVAILABLE</td>\n",
       "      <td>2018-06-11T00:00:00Z</td>\n",
       "      <td>2018-06-26T00:00:00Z</td>\n",
       "      <td>System and Method for Improving Telematics Loc...</td>\n",
       "      <td>2018</td>\n",
       "    </tr>\n",
       "    <tr>\n",
       "      <th>2</th>\n",
       "      <td>1604974368147898368</td>\n",
       "      <td>[Discovery Limited, Cambridge Mobile Telematics]</td>\n",
       "      <td>2016-11-18T00:00:00Z</td>\n",
       "      <td>US15355253</td>\n",
       "      <td>UTILITY</td>\n",
       "      <td>https://bulkdata.uspto.gov/data/patent/grant/r...</td>\n",
       "      <td>[Discoery Limited, Cambridge Mobile Telematics]</td>\n",
       "      <td>2018-07-03T00:00:00Z</td>\n",
       "      <td>US10015654B2</td>\n",
       "      <td>grant</td>\n",
       "      <td>[Ossin, Ilan, Balakrishnan, Hari, Girod, Lewis...</td>\n",
       "      <td>10015654</td>\n",
       "      <td>NOTUPDATED</td>\n",
       "      <td>2018-06-18T00:00:00Z</td>\n",
       "      <td>2018-07-03T00:00:00Z</td>\n",
       "      <td>Tracking and Theft-Recovery System for Mobile ...</td>\n",
       "      <td>2018</td>\n",
       "    </tr>\n",
       "    <tr>\n",
       "      <th>3</th>\n",
       "      <td>1605608364013780992</td>\n",
       "      <td>[Toyota Motor Sales, U.S.A., Inc.]</td>\n",
       "      <td>2016-09-23T00:00:00Z</td>\n",
       "      <td>US15275007</td>\n",
       "      <td>UTILITY</td>\n",
       "      <td>https://bulkdata.uspto.gov/data/patent/grant/r...</td>\n",
       "      <td>[TOYOTA MOTOR SALES, U.S.A, INC.]</td>\n",
       "      <td>2018-07-10T00:00:00Z</td>\n",
       "      <td>US10019053B2</td>\n",
       "      <td>grant</td>\n",
       "      <td>[Betancourt, Moshe Stetson]</td>\n",
       "      <td>10019053</td>\n",
       "      <td>NOTUPDATED</td>\n",
       "      <td>2018-06-27T00:00:00Z</td>\n",
       "      <td>2018-07-10T00:00:00Z</td>\n",
       "      <td>Vehicle Technology and Telematics Passenger Co...</td>\n",
       "      <td>2018</td>\n",
       "    </tr>\n",
       "    <tr>\n",
       "      <th>4</th>\n",
       "      <td>1605608408304582656</td>\n",
       "      <td>[STATE FARM MUTUAL AUTOMOBILE INSURANCE COMPANY]</td>\n",
       "      <td>2014-05-15T00:00:00Z</td>\n",
       "      <td>US14277867</td>\n",
       "      <td>UTILITY</td>\n",
       "      <td>https://bulkdata.uspto.gov/data/patent/grant/r...</td>\n",
       "      <td>[STATE FARM MUTUAL AUTOMOBILE INSURANCE COMPANY]</td>\n",
       "      <td>2018-07-10T00:00:00Z</td>\n",
       "      <td>US10019762B2</td>\n",
       "      <td>grant</td>\n",
       "      <td>[Menon, Sunish Shreenarayan, Dosher, David Jam...</td>\n",
       "      <td>10019762</td>\n",
       "      <td>NOTUPDATED</td>\n",
       "      <td>2018-06-27T00:00:00Z</td>\n",
       "      <td>2018-07-10T00:00:00Z</td>\n",
       "      <td>System and Method for Identifying Idling Times...</td>\n",
       "      <td>2018</td>\n",
       "    </tr>\n",
       "  </tbody>\n",
       "</table>\n",
       "</div>"
      ],
      "text/plain": [
       "             _version_                                         applicant  \\\n",
       "0  1604349225610510336                                     [MOJ.IO INC.]   \n",
       "1  1604354880307200000                            [Sirius XM Radio Inc.]   \n",
       "2  1604974368147898368  [Discovery Limited, Cambridge Mobile Telematics]   \n",
       "3  1605608364013780992                [Toyota Motor Sales, U.S.A., Inc.]   \n",
       "4  1605608408304582656  [STATE FARM MUTUAL AUTOMOBILE INSURANCE COMPANY]   \n",
       "\n",
       "        applicationDate applicationNumber applicationType  \\\n",
       "0  2014-11-12T00:00:00Z        US14539799         UTILITY   \n",
       "1  2012-12-06T00:00:00Z        US14359535         UTILITY   \n",
       "2  2016-11-18T00:00:00Z        US15355253         UTILITY   \n",
       "3  2016-09-23T00:00:00Z        US15275007         UTILITY   \n",
       "4  2014-05-15T00:00:00Z        US14277867         UTILITY   \n",
       "\n",
       "                                          archiveUrl  \\\n",
       "0  https://bulkdata.uspto.gov/data/patent/grant/r...   \n",
       "1  https://bulkdata.uspto.gov/data/patent/grant/r...   \n",
       "2  https://bulkdata.uspto.gov/data/patent/grant/r...   \n",
       "3  https://bulkdata.uspto.gov/data/patent/grant/r...   \n",
       "4  https://bulkdata.uspto.gov/data/patent/grant/r...   \n",
       "\n",
       "                                           assignee          documentDate  \\\n",
       "0                                     [Moj.io Inc.]  2018-06-26T00:00:00Z   \n",
       "1                            [Sirius XM Radio Inc.]  2018-06-26T00:00:00Z   \n",
       "2   [Discoery Limited, Cambridge Mobile Telematics]  2018-07-03T00:00:00Z   \n",
       "3                 [TOYOTA MOTOR SALES, U.S.A, INC.]  2018-07-10T00:00:00Z   \n",
       "4  [STATE FARM MUTUAL AUTOMOBILE INSURANCE COMPANY]  2018-07-10T00:00:00Z   \n",
       "\n",
       "     documentId documentType  \\\n",
       "0  US10006782B2        grant   \n",
       "1  US10009714B2        grant   \n",
       "2  US10015654B2        grant   \n",
       "3  US10019053B2        grant   \n",
       "4  US10019762B2        grant   \n",
       "\n",
       "                                            inventor patentNumber  \\\n",
       "0                                  [Lovell, Robb E.]     10006782   \n",
       "1                                   [Marko, Paul D.]     10009714   \n",
       "2  [Ossin, Ilan, Balakrishnan, Hari, Girod, Lewis...     10015654   \n",
       "3                        [Betancourt, Moshe Stetson]     10019053   \n",
       "4  [Menon, Sunish Shreenarayan, Dosher, David Jam...     10019762   \n",
       "\n",
       "        pdfPath        productionDate       publicationDate  \\\n",
       "0  NOTAVAILABLE  2018-06-11T00:00:00Z  2018-06-26T00:00:00Z   \n",
       "1  NOTAVAILABLE  2018-06-11T00:00:00Z  2018-06-26T00:00:00Z   \n",
       "2    NOTUPDATED  2018-06-18T00:00:00Z  2018-07-03T00:00:00Z   \n",
       "3    NOTUPDATED  2018-06-27T00:00:00Z  2018-07-10T00:00:00Z   \n",
       "4    NOTUPDATED  2018-06-27T00:00:00Z  2018-07-10T00:00:00Z   \n",
       "\n",
       "                                               title  year  \n",
       "0  Characterization of Sensor Data for Vehicle Te...  2018  \n",
       "1  System and Method for Improving Telematics Loc...  2018  \n",
       "2  Tracking and Theft-Recovery System for Mobile ...  2018  \n",
       "3  Vehicle Technology and Telematics Passenger Co...  2018  \n",
       "4  System and Method for Identifying Idling Times...  2018  "
      ]
     },
     "execution_count": 144,
     "metadata": {},
     "output_type": "execute_result"
    }
   ],
   "source": [
    "import pandas as pd\n",
    "df = pd.DataFrame(docs)\n",
    "df.head()"
   ]
  },
  {
   "cell_type": "code",
   "execution_count": 170,
   "metadata": {},
   "outputs": [
    {
     "name": "stdout",
     "output_type": "stream",
     "text": [
      "2014-11-12T00:00:00Z\n"
     ]
    }
   ],
   "source": [
    "sample_date = df.loc[0]['applicationDate']\n",
    "print(sample_date)"
   ]
  },
  {
   "cell_type": "code",
   "execution_count": 174,
   "metadata": {},
   "outputs": [
    {
     "data": {
      "text/plain": [
       "'2014-11-12'"
      ]
     },
     "execution_count": 174,
     "metadata": {},
     "output_type": "execute_result"
    }
   ],
   "source": [
    "sample_date[:10]"
   ]
  },
  {
   "cell_type": "code",
   "execution_count": 175,
   "metadata": {},
   "outputs": [
    {
     "name": "stdout",
     "output_type": "stream",
     "text": [
      "2014 11 12\n"
     ]
    }
   ],
   "source": [
    "date_str = sample_date[:10]\n",
    "from datetime import datetime\n",
    "dt = datetime.strptime(date_str, '%Y-%m-%d')\n",
    "print (dt.year, dt.month, dt.day)"
   ]
  },
  {
   "cell_type": "code",
   "execution_count": 158,
   "metadata": {},
   "outputs": [],
   "source": [
    "df.to_csv('patents.csv')"
   ]
  },
  {
   "cell_type": "code",
   "execution_count": 97,
   "metadata": {},
   "outputs": [
    {
     "data": {
      "text/plain": [
       "2017    159\n",
       "2016    124\n",
       "2009    111\n",
       "2015    110\n",
       "2010    106\n",
       "2018    105\n",
       "2014    105\n",
       "2012    101\n",
       "2013     93\n",
       "2011     87\n",
       "2006     79\n",
       "2007     66\n",
       "2005     56\n",
       "2008     52\n",
       "2004     43\n",
       "2003     38\n",
       "2002     18\n",
       "2001      1\n",
       "Name: year, dtype: int64"
      ]
     },
     "execution_count": 97,
     "metadata": {},
     "output_type": "execute_result"
    }
   ],
   "source": [
    "df.year.value_counts()"
   ]
  },
  {
   "cell_type": "code",
   "execution_count": 98,
   "metadata": {},
   "outputs": [
    {
     "data": {
      "text/plain": [
       "UTILITY      1450\n",
       "DESIGN          3\n",
       "UNDEFINED       1\n",
       "Name: applicationType, dtype: int64"
      ]
     },
     "execution_count": 98,
     "metadata": {},
     "output_type": "execute_result"
    }
   ],
   "source": [
    "df.applicationType.value_counts()"
   ]
  },
  {
   "cell_type": "code",
   "execution_count": 99,
   "metadata": {
    "scrolled": true
   },
   "outputs": [
    {
     "data": {
      "text/plain": [
       "application    886\n",
       "grant          568\n",
       "Name: documentType, dtype: int64"
      ]
     },
     "execution_count": 99,
     "metadata": {},
     "output_type": "execute_result"
    }
   ],
   "source": [
    "df.documentType.value_counts()"
   ]
  },
  {
   "cell_type": "code",
   "execution_count": 159,
   "metadata": {},
   "outputs": [
    {
     "data": {
      "text/html": [
       "<div>\n",
       "<style scoped>\n",
       "    .dataframe tbody tr th:only-of-type {\n",
       "        vertical-align: middle;\n",
       "    }\n",
       "\n",
       "    .dataframe tbody tr th {\n",
       "        vertical-align: top;\n",
       "    }\n",
       "\n",
       "    .dataframe thead th {\n",
       "        text-align: right;\n",
       "    }\n",
       "</style>\n",
       "<table border=\"1\" class=\"dataframe\">\n",
       "  <thead>\n",
       "    <tr style=\"text-align: right;\">\n",
       "      <th></th>\n",
       "      <th>_version_</th>\n",
       "      <th>applicant</th>\n",
       "      <th>applicationDate</th>\n",
       "      <th>applicationNumber</th>\n",
       "      <th>applicationType</th>\n",
       "      <th>archiveUrl</th>\n",
       "      <th>assignee</th>\n",
       "      <th>documentDate</th>\n",
       "      <th>documentId</th>\n",
       "      <th>documentType</th>\n",
       "      <th>inventor</th>\n",
       "      <th>patentNumber</th>\n",
       "      <th>pdfPath</th>\n",
       "      <th>productionDate</th>\n",
       "      <th>publicationDate</th>\n",
       "      <th>title</th>\n",
       "      <th>year</th>\n",
       "    </tr>\n",
       "  </thead>\n",
       "  <tbody>\n",
       "    <tr>\n",
       "      <th>37</th>\n",
       "      <td>1610229028200906752</td>\n",
       "      <td>[Williams, Lawrence E.]</td>\n",
       "      <td>2000-12-26T00:00:00Z</td>\n",
       "      <td>US9748729</td>\n",
       "      <td>UTILITY</td>\n",
       "      <td>https://bulkdata.uspto.gov/data/patent/applica...</td>\n",
       "      <td>NaN</td>\n",
       "      <td>2001-08-16T00:00:00Z</td>\n",
       "      <td>US20010014863A1</td>\n",
       "      <td>application</td>\n",
       "      <td>[Williams, Lawrence E.]</td>\n",
       "      <td>NaN</td>\n",
       "      <td>NOTUPDATED</td>\n",
       "      <td>2000-12-26T00:00:00Z</td>\n",
       "      <td>2001-08-16T00:00:00Z</td>\n",
       "      <td>Methods and systems for providing life managem...</td>\n",
       "      <td>2001</td>\n",
       "    </tr>\n",
       "    <tr>\n",
       "      <th>38</th>\n",
       "      <td>1611044469850767360</td>\n",
       "      <td>[Rigo, Ralf, Sanders, S. Wayne, Diamond, Preston]</td>\n",
       "      <td>2001-08-10T00:00:00Z</td>\n",
       "      <td>US9927927</td>\n",
       "      <td>UTILITY</td>\n",
       "      <td>https://bulkdata.uspto.gov/data/patent/applica...</td>\n",
       "      <td>NaN</td>\n",
       "      <td>2002-04-25T00:00:00Z</td>\n",
       "      <td>US20020049535A1</td>\n",
       "      <td>application</td>\n",
       "      <td>[Rigo, Ralf, Sanders, S. Wayne, Diamond, Preston]</td>\n",
       "      <td>NaN</td>\n",
       "      <td>NOTUPDATED</td>\n",
       "      <td>2001-08-10T00:00:00Z</td>\n",
       "      <td>2002-04-25T00:00:00Z</td>\n",
       "      <td>Wireless interactive voice-actuated mobile tel...</td>\n",
       "      <td>2002</td>\n",
       "    </tr>\n",
       "    <tr>\n",
       "      <th>39</th>\n",
       "      <td>1611150142562369536</td>\n",
       "      <td>[Messina, Andrew Albert, King, Jack Harold, Ch...</td>\n",
       "      <td>2000-11-29T00:00:00Z</td>\n",
       "      <td>US9727099</td>\n",
       "      <td>UTILITY</td>\n",
       "      <td>https://bulkdata.uspto.gov/data/patent/applica...</td>\n",
       "      <td>NaN</td>\n",
       "      <td>2002-05-30T00:00:00Z</td>\n",
       "      <td>US20020065037A1</td>\n",
       "      <td>application</td>\n",
       "      <td>[Messina, Andrew Albert, King, Jack Harold, Ch...</td>\n",
       "      <td>NaN</td>\n",
       "      <td>NOTUPDATED</td>\n",
       "      <td>2000-11-29T00:00:00Z</td>\n",
       "      <td>2002-05-30T00:00:00Z</td>\n",
       "      <td>Telematics application for implementation in c...</td>\n",
       "      <td>2002</td>\n",
       "    </tr>\n",
       "    <tr>\n",
       "      <th>40</th>\n",
       "      <td>1611165264901046272</td>\n",
       "      <td>[Knockeart, Ronald P., Rode, Melvin A., Delgiu...</td>\n",
       "      <td>2001-07-30T00:00:00Z</td>\n",
       "      <td>US9918360</td>\n",
       "      <td>UTILITY</td>\n",
       "      <td>https://bulkdata.uspto.gov/data/patent/applica...</td>\n",
       "      <td>NaN</td>\n",
       "      <td>2002-06-06T00:00:00Z</td>\n",
       "      <td>US20020069071A1</td>\n",
       "      <td>application</td>\n",
       "      <td>[Knockeart, Ronald P., Rode, Melvin A., Delgiu...</td>\n",
       "      <td>NaN</td>\n",
       "      <td>NOTUPDATED</td>\n",
       "      <td>2001-07-30T00:00:00Z</td>\n",
       "      <td>2002-06-06T00:00:00Z</td>\n",
       "      <td>User interface for telematics systems</td>\n",
       "      <td>2002</td>\n",
       "    </tr>\n",
       "    <tr>\n",
       "      <th>41</th>\n",
       "      <td>1611180313325600768</td>\n",
       "      <td>[Fritz, Werner]</td>\n",
       "      <td>2001-11-20T00:00:00Z</td>\n",
       "      <td>US9988581</td>\n",
       "      <td>UTILITY</td>\n",
       "      <td>https://bulkdata.uspto.gov/data/patent/applica...</td>\n",
       "      <td>NaN</td>\n",
       "      <td>2002-06-13T00:00:00Z</td>\n",
       "      <td>US20020072399A1</td>\n",
       "      <td>application</td>\n",
       "      <td>[Fritz, Werner]</td>\n",
       "      <td>NaN</td>\n",
       "      <td>NOTUPDATED</td>\n",
       "      <td>2001-11-20T00:00:00Z</td>\n",
       "      <td>2002-06-13T00:00:00Z</td>\n",
       "      <td>Voltage controller for a pulsed load, in parti...</td>\n",
       "      <td>2002</td>\n",
       "    </tr>\n",
       "  </tbody>\n",
       "</table>\n",
       "</div>"
      ],
      "text/plain": [
       "              _version_                                          applicant  \\\n",
       "37  1610229028200906752                            [Williams, Lawrence E.]   \n",
       "38  1611044469850767360  [Rigo, Ralf, Sanders, S. Wayne, Diamond, Preston]   \n",
       "39  1611150142562369536  [Messina, Andrew Albert, King, Jack Harold, Ch...   \n",
       "40  1611165264901046272  [Knockeart, Ronald P., Rode, Melvin A., Delgiu...   \n",
       "41  1611180313325600768                                    [Fritz, Werner]   \n",
       "\n",
       "         applicationDate applicationNumber applicationType  \\\n",
       "37  2000-12-26T00:00:00Z         US9748729         UTILITY   \n",
       "38  2001-08-10T00:00:00Z         US9927927         UTILITY   \n",
       "39  2000-11-29T00:00:00Z         US9727099         UTILITY   \n",
       "40  2001-07-30T00:00:00Z         US9918360         UTILITY   \n",
       "41  2001-11-20T00:00:00Z         US9988581         UTILITY   \n",
       "\n",
       "                                           archiveUrl assignee  \\\n",
       "37  https://bulkdata.uspto.gov/data/patent/applica...      NaN   \n",
       "38  https://bulkdata.uspto.gov/data/patent/applica...      NaN   \n",
       "39  https://bulkdata.uspto.gov/data/patent/applica...      NaN   \n",
       "40  https://bulkdata.uspto.gov/data/patent/applica...      NaN   \n",
       "41  https://bulkdata.uspto.gov/data/patent/applica...      NaN   \n",
       "\n",
       "            documentDate       documentId documentType  \\\n",
       "37  2001-08-16T00:00:00Z  US20010014863A1  application   \n",
       "38  2002-04-25T00:00:00Z  US20020049535A1  application   \n",
       "39  2002-05-30T00:00:00Z  US20020065037A1  application   \n",
       "40  2002-06-06T00:00:00Z  US20020069071A1  application   \n",
       "41  2002-06-13T00:00:00Z  US20020072399A1  application   \n",
       "\n",
       "                                             inventor patentNumber  \\\n",
       "37                            [Williams, Lawrence E.]          NaN   \n",
       "38  [Rigo, Ralf, Sanders, S. Wayne, Diamond, Preston]          NaN   \n",
       "39  [Messina, Andrew Albert, King, Jack Harold, Ch...          NaN   \n",
       "40  [Knockeart, Ronald P., Rode, Melvin A., Delgiu...          NaN   \n",
       "41                                    [Fritz, Werner]          NaN   \n",
       "\n",
       "       pdfPath        productionDate       publicationDate  \\\n",
       "37  NOTUPDATED  2000-12-26T00:00:00Z  2001-08-16T00:00:00Z   \n",
       "38  NOTUPDATED  2001-08-10T00:00:00Z  2002-04-25T00:00:00Z   \n",
       "39  NOTUPDATED  2000-11-29T00:00:00Z  2002-05-30T00:00:00Z   \n",
       "40  NOTUPDATED  2001-07-30T00:00:00Z  2002-06-06T00:00:00Z   \n",
       "41  NOTUPDATED  2001-11-20T00:00:00Z  2002-06-13T00:00:00Z   \n",
       "\n",
       "                                                title  year  \n",
       "37  Methods and systems for providing life managem...  2001  \n",
       "38  Wireless interactive voice-actuated mobile tel...  2002  \n",
       "39  Telematics application for implementation in c...  2002  \n",
       "40              User interface for telematics systems  2002  \n",
       "41  Voltage controller for a pulsed load, in parti...  2002  "
      ]
     },
     "execution_count": 159,
     "metadata": {},
     "output_type": "execute_result"
    }
   ],
   "source": [
    "#Create variable with TRUE if documentType is application\n",
    "applications = df['documentType'] == 'application'\n",
    "#Select all rows where documentType is application\n",
    "df[applications].head()"
   ]
  },
  {
   "cell_type": "code",
   "execution_count": 128,
   "metadata": {},
   "outputs": [
    {
     "name": "stdout",
     "output_type": "stream",
     "text": [
      "['MOJ.IO INC.', 'Sirius XM Radio Inc.', 'Discovery Limited', 'Cambridge Mobile Telematics', 'Toyota Motor Sales, U.S.A., Inc.', 'STATE FARM MUTUAL AUTOMOBILE INSURANCE COMPANY', 'STATE FARM MUTUAL AUTOMOBILE INSURANCE COMPANY', 'Allstate Insurance Company', 'TomTom Telematics B.V.', 'STATE FARM MUTUAL AUTOMOBILE INSURANCE COMPANY', 'Allstate Insurance Company', 'Husain, Aqueel', 'Adams, David A.', 'Allstate Insurance Company', 'Allstate Insurance Company', 'Accenture Global Services Limited', 'STATE FARM MUTUAL AUTOMOBILE INSURANCE COMPANY', 'Allstate Insurance Company', 'Verizon Patent and Licensing Inc.', 'GM GLOBAL TECHNOLOGY OPERATIONS LLC', 'GM GLOBAL TECHNOLOGY OPERATIONS LLC', 'Allstate Insurance Company', 'STATE FARM MUTUAL AUTOMOBILE INSURANCE COMPANY', 'STATE FARM MUTUAL AUTOMOBILE INSURANCE COMPANY', 'Wireless Telematics LLC', 'Harman Becker Automotive Systems GmbH', 'Geotab Inc.', 'STATE FARM MUTUAL AUTOMOBILE INSURANCE COMPANY', 'Kapsch TrafficCom AG', 'United Parcel Service of America, Inc.', 'Ford Global Technologies, LLC', 'CalAmp Corp.', 'STATE FARM MUTUAL AUTOMOBILE INSURANCE COMPANY', 'STATE FARM MUTUAL AUTOMOBILE INSURANCE COMPANY', 'ZONAR SYSTEMS, INC.', 'STATE FARM MUTUAL AUTOMOBILE INSURANCE COMPANY', 'QUALCOMM Incorporated', 'GM GLOBAL TECHNOLOGY OPERATIONS LLC', 'Verizon Patent and Licensing Inc.', 'Williams, Lawrence E.', 'Rigo, Ralf', 'Sanders, S. Wayne', 'Diamond, Preston', 'Messina, Andrew Albert', 'King, Jack Harold', 'Chrysochoos, Michael', 'Bator, Philip Mark', 'Zerod, Richard', 'Fedak, Taras O.', 'Knockeart, Ronald P.', 'Rode, Melvin A.', 'Delgiudice, Gregory', 'Fritz, Werner', 'Furon, Olivier', 'Vau, Jean-Marie', 'Christopher, Gary L.', 'Fritz, Eric', 'Christopher, Gary L.', 'Howell, Robert M.', 'Stevenson, Timothy J.', 'Davis, Scott B.', 'Nietupski, Peter', 'Breault, Timothy James', 'Correia, John J.', 'Newell, Michael A.', \"D'Avello, Robert F.\", 'Davis, Scott B.', 'Peterson, Scott', 'Kassir, Hassan', 'Odinak, Gilad', 'Langenbeck, Stephen H.', 'Sabet, Kazem F.', 'Sarabandi, Kamal', 'Katehi, Linda P.B.', 'Frantzis, Panayiotis', 'Breed, David S.', 'DuVall, Wilbur E.', 'Johnson, Wendell C.', 'Breed, David S.', 'Graindorge, Laurence', 'Limousin, Marcel', 'Manlio, Romanelli', 'Leonardo, Comelli', 'Kouchiyama, Satoshi', 'Karashima, Teruhiko', 'Noghero, Gerd', 'Raithel, Mathias', 'Clark, Noel E.', 'Sinicki, Steven J.', 'Odinak, Gilad', 'Kostepen, Hakan', 'Danieli, Oren', 'Jijina, Jasmin', 'Correia, John J.', 'Fraser, Ronald W.', 'Mazzara, William E.', 'Schwinke, Steven P.', 'Aquilina, Rene Charles', 'Sziraki, David', 'Huang, Xiaopei', 'Kacel, Richard J.', 'Shay, Amir', 'Braun, Guenter', 'Klausing, Helmut', 'Loftus, James A.', 'Kowalik, Jerome M.', 'Farmer, Bennie L.', 'Mazzara, William E.', 'Hichme, Michael A.', 'Fuchs, Axel', 'Wheatley, David J.', 'Hede, William', 'Van Bosch, James A.', \"D'Avello, Robert F.\", 'Ablay, Sewim F.', 'Akers, Ronald G.', 'Dabbish, Ezzat A.', 'Gannon, Mark A.', 'Remboski, Donald J.', 'Thale, Bryan', 'Alsliety, Mazen K.', 'Mutoh, Katsuhiko', 'Mocek, Darryl', 'Mocek, Darryl J.', 'McWalter, William F.', 'Razavi, Behfar', 'Decristo, Dianna L.', 'Kelly, Lisa M.', 'Mocek, Darryl J.', 'Grigoriev, Nikolay Georgievich', 'Petrovsky, Sergey', 'Barr, Terrence', 'Jensen, Peter Strarup', 'Mocek, Darryl J.', 'Razavi, Behfar', 'McWalter, William F.', 'Mocek, Darryl', 'Alton, Ronald Frank', 'EIBACH, WOLFGANG', 'GRUETZNER, MATTHIAS', 'Aslund, Bo', 'Perry, Frank', 'Aulakh, Gurpreet', 'Helmke, James W.', 'Cuddihy, Mark A.', 'Gillenius, Ulrika', 'Arunkumar, Uma', 'Patel, Kaushik A.', 'Morse, Timothy J.', 'Enborg, Kenneth', 'Goto, Yukio', 'Masaki, Ichiro', 'Macfarlane, Jane F.', 'Eisenmann, Joachim', 'Huebner-Obenland, Frank', 'Kraft, Petra', 'Rueter, Karsten', 'Oesterling, Christopher L.', 'Gawlik, Thomas A.', 'Videtich, Matt C.', 'Mazzara, William E.', 'Ashman, John S.', 'Przybylski, Matthew G.', 'House, William Neal', 'Olsen, John', 'Bradley, David', 'Jenkins, Rhesa', 'Mazzara, William E.', 'Knoski, Jerry L.', 'Knoski, Barbara J.', 'Marx, Daniel P.', 'Yuguchi, T. Glenn', 'Ross, Steven J.', 'Habermas, Stephen C.', 'Oesterling, Christopher L.', 'Wixforth, Thomas', 'Detlefsen, Wolfgang', 'Hall, Todd H.', 'Videtich, Matt C.', 'Remy, Cedric', 'Sabet, Kazem F.', 'Sarabandi, Kamal', 'Katehi, Linda P. B.', 'Miller, Ronald Hugh', 'Salmeen, Irving Toivo', 'Borri, Roberto', 'La Vecchia, Giustiniano', 'Chiappalone, Luciano', 'McKibbon, Douglas J.', 'Wee, Sung-Don', 'Vries, Jeroen Joost de', 'Meyer, Mike', 'Turnbull, Andy', 'Szilagyi, Eddie', 'Gudmunds, Michael', 'Kaiser, Per', 'Sjoberg, Esbjorn', 'Sward, David', 'Richter, Tom', 'Gates, Noah', 'Siebert, Michael', 'Heed, Dara Holmes', \"D'Souza, Denis\", 'Roscoe, David', 'Taylor, David W.', 'McCarthy, Kevin C.', 'Lynam, Niall R.', 'Schofield, Kenneth', 'Fabbri, Mario', 'Sanqunetti, Douglas Ray', 'Johnson, Jeffrey D.', 'Yamamoto, Rena', 'Thayer, Peter', 'Schwinke, Steven P.', 'Mazzara, William E.', 'Spaur, Charles W.', 'Kennedy, Patrick J.', 'Braitberg, Michael F.', 'Fuchs, Axel', 'Klingenstein, Nate', 'Lee, Lane', 'Beiermeister, Frederick J.', 'Tan, Adrian', 'Bai, Sue', 'Walby, James', 'Grivas, Nick J.', 'Stavropoulos, Mark', 'Oesterling, Christopher L.', 'Simon, Anthony Luke', 'Crocker, Dwayne A.', 'Wang, Mingheng', 'Piwowarski, James J.', 'Mazzara, William E.', 'Hichme, Michael A.', 'Schwinke, Steven P.', 'Mazzara, William E.', 'Italia, William E.', 'Ross, Steven  J.', 'MacFarlane, Jane F.', 'Rybicki, Julie A.', 'Breed, David S.', 'DuVall, Wilbur E.', 'Johnson, Wendell C.', 'Wary, Jean-Philippe', 'Douglass, William A.', 'Oesterling, Christopher L.', 'Mintz, Josef', 'Watkins, Gary A.', 'Oesterling, Christopher L.', 'Rockett, David W.', 'Schwinke, Steven P.', 'Kobayashi, Junichi', 'Bai, Sue', 'Kaelin, August', 'Schreier, Balz', 'Wenger, Bruno', 'Rockett, David', 'Beiermeister, Frederick', 'Gumushian, Gary', 'Oesterling, Christopher', 'Watkins, Gary', 'Oesterling, Christopher', 'Jeon, Ji-Youn', 'Kim, Jin-Won', 'Park, Chan-Woo', 'Odinak, Gilad', 'Watkins, Gary', 'Oesterling, Christopher', 'Burt, Wylie', 'Stefan, Jeffrey', 'Ampunan, Nathan', 'Watkins, Gary', 'Oesterling, Christopher', 'Crocker, Dwayne', 'Gryc, Andrew', 'Glaza, Mark', 'Correia, John', 'Kamdar, Hitan', 'Kukulski, Michael', 'Sumcad, Anthony', 'Lee, Eun-Hee', 'Moon, Yong-Khon', 'Grivas, Nick', 'Peterson, David', 'Bosch, James', 'Walby, James', 'Harwood, Jody', 'Bauman, Jason', 'Rudnick, Kenan', 'Mazzara, William', 'Oesterling, Christopher', 'McGarry, Daniel', 'Basson, Sara', 'Fairweather, Peter', 'Kanevsky, Dimitri', 'Watkins, Gary', 'Devereux, Michael', 'Brancheau, Jon', 'Oesterling, Christopher', 'Sumcad, Anthony', 'Stefan, Jeffrey', 'Rennells, Ernest', 'Kim, Hyong-Kyun', 'Park, Sang-Ho', 'Kim, Hyong-Kyun', 'Gould, Garett', 'Kamdar, Hitan', 'Patenaude, Russell', 'Sumcad, Anthony', 'Veliu, Shpetim', 'Reeser, Brad', 'Kamdar, Hitan', 'Enborg, Kenneth', 'Patenaude, Russell', 'Reeser, Brad', 'Fernandez, Dennis', 'Woolford, Paul', 'Carlsson, Roger', 'Mazzara, William', 'Legate, Ian', 'Stott, David', 'Gault, Thomas', 'Nicolini, Daniele', 'Groskreutz, Bruce', 'Thevasahayam, Anton', 'Dale, John', 'Kamdar, Hitan', 'Patenaude, Russell', 'Sumcad, Anthony', 'Veliu, Shpetim', 'Reeser, Brad', 'Rockett, David', 'Watkins, Gary', 'Olsen, John', 'Bradley, David', 'Jenkins, Rhesa', 'Becker, Michael', 'Lappe, Dirk', 'Gieseke, Arnold', 'Sumcad, Anthony', 'Oesterling, Christopher', 'Patenaude, Russell', 'Kamdar, Hitan', 'Reeser, Brad', 'Veliu, Shpetim', 'Dutta, Ashutosh', 'Chen, Wai', 'Altintas, Onur', 'Madhani, Sunil', 'Suwa, Yoshihisa', 'Cai, Shengwei', 'Oesterling, Christopher', 'Watkins, Gary', 'Stefan, Jeffrey', 'Gawlik, Thomas', 'Devries, Douglas', 'Ampunan, Nathan', 'Kafry, Eddy', 'Inbar, Zeev', 'Nahear, Shemon', 'Schmidt, Peter', 'Olszewski, Paul', 'Watkins, Gary', 'Oesterling, Christopher', 'Stefan, Jeffrey', 'Steingruebner, Mihai', 'Wang, Mingheng', 'Chrumka, Edward', 'Oesterling, Christopher', 'Huber, Chester', 'Groskreutz, Bruce', 'Gault, Thomas', 'Nicolini, Daniele', 'Kamdar, Hitan', 'Patenaude, Russell', 'Sumcad, Anthony', 'Veliu, Shpetim', 'Reeser, Brad', 'Watkins, Gary', 'Sumcad, Anthony', 'Patenaude, Russell', 'Kamdar, Hitan', 'Ross, Steven', 'Chrumka, Edward', 'Ravas, Jeffrey', 'Ampunan, Nathan', 'Watkins, Gary', 'Michel, Philippe', 'Marie, Francois', 'Courtemanche, Bernard', 'Freer, Carl', 'Wenger, Bruno', 'Lauper, Alfred', 'Addy, Kenneth', 'Bakis, Raimo', 'Eide, Ellen', 'Hamza, Wael', 'NOU, SEONG TAEG', 'Sumcad, Anthony', 'Bicego, James', 'Kamdar, Hitan', 'Schullian, John', 'Leger-Andrews, David', 'Weseloh, Christopher', 'Nguyen, Huan', 'Diendorf, John', 'Wolsieffer, James', 'Bolanowski, Ronald', 'St Leger-Andrews, David', 'Schullian, John', 'Weseloh, Christopher', 'Schwinke, Steven', 'Mazzara, William', 'Italia, William', 'Olsen, John', 'Bradley, David', 'Jenkins, Rhesa', 'NOU, SEONG TAEG', 'Grau, Thomas', 'Videtich, Matt', 'Wang, Mingheng', 'Mazzara, William', 'Peterson, Michael', 'Crocker, Dwayne', 'Maten, Michael', 'Oesterling, Christopher', 'Economos, George', 'Schaefer, Mark', 'Sumcad, Anthony', 'Reeser, Brad', 'Kamdar, Hitan', 'Arun, Uma', 'Rockett, David', 'Suurmeyer, Andrea', 'Kavi, Sateesh', 'Oesterling, Christopher', 'Watkins, Gary', 'Chiu, Wanli', 'Patenaude, Russell', 'Sumcad, Anthony', 'Kamdar, Hitan', 'Hay, Curtis', 'Fillwock, Brian', 'Stark, Brett', 'Khamharn, Oddy', 'Sonnenrein, Thomas', 'Bauer, Norbert', 'Weiss, John', 'Glaza, Mark', 'Piwowarski, James', 'Simon, Anthony', 'NOU, SEONG TAEG', 'Choi, Yeon', 'Kim, Min', 'Lee, Moon', 'Kwon, Oh', 'Choi, Jong', 'NOU, SEONG TAEG', 'NOU, SEONG TAEG', 'Nahear, Shemon', 'Patenaude, Russell', 'Patenaude, Russell', 'Kogowski, Patty', 'Reeser, Brad', 'Petschke, Julianne', 'NOU, SEONG TAEG', 'Ringel, Thomas', 'Schilke, Martin', 'Schluesener, Tim', 'Wang, Mingheng', 'Ross, Steven', 'Chrumka, Edward', 'KIM, Young-Mun', 'Gault, Thomas', 'Groskreutz, Bruce', 'Krause, Kevin', 'Laghrari, Fahd', 'Ma, Jin-Suk', 'Kim, Sun-Ja', 'Grenn, Daniel', 'Ampunan, Nathan', 'Karmanoff, Sylvia', 'Ross, Steven', 'Zambo, Michael', 'Oesterling, Christopher', 'Economos, George', 'Ross, Steven', 'Tak, Jin-Hee', 'Wittmann, Armin', 'Schmitt, Kai', 'Veith, Gregory', 'Ferguson, Thomas', 'Resser, Brad', 'Patenaude, Russell', 'Veliu, Shpetim', 'Sumcad, Anthony', 'Weiss, Cornelia', 'Fischer, Joerg', 'Bicego, James', 'Sumcad, Anthony', 'Patenaude, Russell', 'Veliu, Shpetim', 'Sumcad, Anthony', 'Kamdar, Hitan', 'Patenaude, Russell', 'Ringel, Thomas', 'Schluesener, Tim', 'Oesterling, Christopher', 'Petschke, Julianne', 'LIM, JUNG HYUN', 'Fraser, Ronald', 'Piwowarski, James', 'Glaza, Mark', 'Weiss, John', 'Powers, Robert', 'Massoll, Charles', 'Bojanowski, David', 'Young, Richard', 'Aryal, Bijaya', 'Angell, Linda', 'NOU, SEONG TAEG', 'Mintz, Josef', 'LEE, Sang-Sook', 'Nou, Seong-Taeg', 'Kim, Hyeon-Su', 'Lim, Chang-Hwan', 'Lim, Jung-Hyun', 'Lee, Jun-Ho', 'Nou, Seong-Taeg', 'Kim, Hyeon-Su', 'Lim, Chang-Hwan', 'Lim, Jung-Hyun', 'Han, Jung-Mi', 'Lee, Jun-Ho', 'NOU, SEONG TAEG', 'Kim, Wa-Sung', 'Oh, Min-Seok', 'SONG, Kyeong Sub', 'KWON, OH IL', 'Freilich, Robert', 'NOU, Seong Taeg', 'Laghrari, Fahd', 'Sumcad, Anthony', 'JUNG, Jin-Hyuk', 'NOU, Seong Taeg', 'Fernandez, Dennis', 'Rokusek, Daniel', 'Kambhampati, Kranti', 'Piket, James', 'Srenger, Edward', 'Darji, Ankur', 'Kong, Byong', 'Ampunan, Nathan', 'Regmont, Dennis', 'Rychlinski, Mark', 'Inbarajan, Krishnaraj', 'Zhang, Yilu', 'Oesterling, Christopher', 'Kim, Chul-Su', 'Kim, Jong-Ik', 'Han, Woo-Yong', 'Kwon, Oh-Cheon', 'Song, Jin-Ho', 'Lorello, Timothy', 'Hamilton, Elliott', 'Gerlach, Jonathan', 'Rennells, Ernest', 'Patenaude, Russell', 'Moon, Young', 'Kim, Min', 'Choi, Yeon', 'Kim, Sun', 'Kwon, Oh', 'Nelson, Scott', 'Habaguchi, Masayuki', 'Kim, Min Jung', 'Choi, Yeon Jun', 'Moon, Young Bag', 'Kim, Sun Joong', 'Kwon, Oh Cheon', 'Orebaugh, Angela', 'Alessandro, Salvatore', 'Li, Wei-Min', 'Chen, Long-Tai', 'Huang, Li-Kung', 'Phelan, James', 'NOU, Seong Taeg', 'Zeng, Xianguang', 'Oesterling, Christopher', 'Sommariva, Fulvio', 'Lilli, Francesco', 'Visintainer, Filippo', 'Betterle, Enrico', 'Darin, Marco', 'Hines, Jeffrey', 'Peyravian, Mohammad', 'Sabhikhi, Ravinder', 'Snider, Chris', 'Dobosz, Paul', 'Basson, Sara', 'Fairweather, Peter', 'Kanevsky, Dimitri', 'Rockett, David', 'Beiermeister, Frederick', 'Gumushian, Gary', 'Fabbri, Mario', 'Olsen, John', 'Bradley, David', 'Jenkins, Rhesa', 'Dobosz, Paul J.', 'Funk, John D.', 'Marrah, Jeffrey J.', 'Manlove, Gregory J.', 'Oesterling, Christopher L.', 'Dorfstatter, Walter', 'Oesterling, Christopher', 'Peterson, Michael', 'Chengalvarayan, Rathinavelu', 'Correia, John J', 'Pennock, Scott M', 'Montvay, Andras', 'Reiter, Harald', 'Lauter, Josef', 'Schmidt, Ralf', 'Such, Olaf', 'Reichinger, Christian', 'Murlidar, Jaycee', 'Ampunan, Nathan D.', 'Clark, Jason W.', 'Wasson, Ryan J.', 'Weiss, John P.', 'Yi, Ki Hak', 'Madhavan, Sethu', 'Jamali, Hamadi', 'Jamali, Hamadi', 'Madhavan, Sethu', 'Yi, Ki Hak', 'Chesnutt, Elizabeth', 'Fecher, Dana B.', 'Hjelmeland, Robert W.', 'King, John F.', 'Ampunan, Nathan', 'Hering, Carl J.', 'Oesterling, Christopher L.', 'Ross, Steven J.', 'Johnson, Richard A.', 'Chrumka, Edward P.', 'Zoeckler, Dennis', 'Ampunan, Nathan', 'Fernandez, Dennis S.', 'YANG, Man Seok', 'KIM, Heung Nam', 'LIM, Dong Sun', 'HAN, Tae Man', 'PARK, Mi Ryong', 'PARK, Tae Joon', 'Odinak, Gilad', 'Spaur, Charles W.', 'Kennedy, Patrick J.', 'Braitberg, Micheal F.', 'Fuchs, Axel', 'Klingenstein, Nate', 'Lee, Lane', 'HINES, JEFFREY S.', 'Peyravian, Mohammad', 'Sabhikhi, Ravinder K.', 'Breen, Thomas Bernard', 'Fortson, Frederick O.', 'HINES, JEFFREY S.', 'Peyravian, Mohammad', 'Sabhikhi, Ravinder K.', 'Bauer, Lee', 'Geiger, Erich', 'Bauer, Lee', 'Geiger, Erich', 'Bauer, Lee', 'Geiger, Erich', 'Sukkarie, Anwar Mohamad Farid', 'Fernandez, Dennis S.', 'Kim, Do-Sung', 'Cho, Won-Hee', 'Park, Jin-Kyung', 'Choi, In-Joon', 'Park, Min-Hui', 'Bauer, Lee', 'Geiger, Erich', 'Van Bosch, James A.', \"D'Avello, Robert F.\", 'Seguin, Pierre Robert Emile', 'Thompson, Doug', 'Duffy, Scott James', 'Haddad, George', 'Berkobin, Eric', 'Blumer, Frederick T.', 'McGray, Faith', 'Adorable, Alexis Tabora', 'Yabot, Jade Turla', 'Pestelos, Christian Paolo', 'Laghrari, Fahd Z.', 'Krause, Kevin R.', 'Myers, Robert J.', 'Ball, William L.', 'Schwinke, Steven P.', 'Olsen, John', 'Bradley, David', 'Jenkins, Rhesa', 'Crawley, Casimir Johan', 'Strader, Alan Lee', 'Hines, Jeffery Scott', 'Wiwel, Timothy M.', 'FRICKE, Volker', 'Caltabiano, Raffaele Antonio', 'Suurmeyer, Andrea K.', 'Adams, Mary Ann', 'Chrumka, Edward P.', 'George, Reni', 'Williams, Bradley O.', 'Krause, Kevin R.', 'Gault, Thomas A.', 'Krause, Kevin R.', 'Yi, Ki-Hak', 'Chesnutt, Elizabeth', 'Yi, Ki-Hak', 'Dale, John L.', 'Chesnutt, Elizabeth', 'Bicego, JR., James', 'Watkins, Gary A.', 'Yasan, Eray', 'Madhavan, Sethu', 'Basanyake, Chaminda', 'Markyvech, Craig', 'Patil, Abhijit', 'McKibbon, Douglas J.', 'Casper, Robert J.', 'Majeske, Amelia', 'Munzenberger, Andrea', 'Chander, Bhagyashri', \"D'Errico, Mark\", 'McKibbon, Douglas J.', 'Casper, Robert J.', 'Oesterling, Christopher L.', 'WOODY, GEORGE R.', 'WELCHKO, BRIAN A.', 'Oman, Todd P.', 'Tieman, Craig A.', 'Sultan, Michel F.', 'Partin, Dale L.', 'Nicholas, Clayton L.', 'Sultan, Michel F.', 'Partin, Dale L.', 'Tieman, Craig A.', 'Oman, Todd P.', 'McKenna, Louis H.', 'Olsen, John', 'Bradley, David', 'Jenkins, Rhesa', 'Mukherjee, Partha', 'Batagurki, Anand Vasant', 'Itagi, Sanjeev K.', 'Munoz Soro, Jose Felix', 'Villa, Jose Antonio Lazaro', 'Gregorio, Juan Ignacio Garces', 'Guillen, Pedro Bueso', 'Cinca, Carlos Serrano', 'Link, II, Charles M.', 'Berkobin, Eric', 'Goldman, Erik', 'Fernandez, Dennis S.', 'Shuart, Kristen M.', 'Husain, Aqueel', 'Adams, David A.', 'George, David', 'Chengalvarayan, Rathinavelu', 'Pennock, Scott M.', 'Clark, Jason W.', 'Grau, Thomas P.', 'Khunger, Sanjay', 'Huber, Chester A.', 'Patenaude, Russell A.', 'Sumcad, Anthony J.', 'Bae, Ju Hee', 'Munson, Jonathan P.', 'Pae, Young Woo', 'Tak, Young Ju', 'Lee, Ki Chang', 'ZHANG, Yilu', 'REGMONT, Dennis F.', 'AMPUNAN, Nathan', 'RYCHLINSKI, Mark J.', 'INBARAJAN, Krishnaraj', 'SONG, Haiping', 'Oesterling, Christopher L.', 'Mazzara, JR., William E.', 'Oesterling, Christopher L.', 'Breen, Thomas B.', 'Sumcad, Anthony J.', 'Chesnutt, Elizabeth', 'Krause, Kevin R.', 'Yi, Ki Hak', 'Mc Cormick, Catherine L.', 'Rysenga, Jeffrey P.', 'Bodrie, Dennis M.', 'Italia, William E.', 'Mauti, JR., Thomas K.', 'Williams, Wade', 'Yuen, Randy', 'Badham, Vern', 'Watkins, Gary A.', 'Devereux, Michael J.', 'Brancheau, Jon M.', 'Waypa, Thomas G.', 'Grenn, Daniel P.', 'Stempnik, Joseph M.', 'Gilmartin, David P.', 'Chrumka, Edward P.', 'Farrell, Tod', 'Ellingson, Robert Orson', 'Bruce, Yaovi S.', 'Chmielewski, Laura R.', 'Italia, William E.', 'LINK, II, Charles M.', 'Link, Kevin W.', 'Kirsch, Paul', 'Gordan, Marc', 'Haralson, Jessica L.', 'Economos, George A.', 'McGarry, Daniel C.', 'Jdanov, Dmitri', 'Burgess, Bradley J.', 'Oesterling, Christopher L.', 'Chang, Sam S.', 'Heines, Richard F.', 'Hering, Carl J.', 'Edwards, Ryan M.', 'Schwinke, Steven P.', 'Koepf, Gerhard A.', 'Yandroflki, Robert M.', 'Cooper, Jonathan M.', 'Bicego, JR., James', 'Nixon, Timothy R.', 'Stewart, Gregory B.', 'Lim, Ji Hyun', 'Jung, Nam Kwon', 'Pryor, Timothy R.', 'ENOMOTO, Hiroyuki', 'SHIMIZU, Kokichi', 'Rusignuolo, Giorgio', 'McDonald, Patrick', 'Barnett, Kevin L.', 'Nguyen, Eden T.', 'Pryor, Timothy R.', 'Pryor, Timothy R.', 'Pryor, Timothy R.', 'SUGANUMA, Takeshi', 'Enomoto, Hiroyuki', 'Berkobin, Eric', 'Link, II, Charles M.', 'Nielsen, Benjamin Jason', 'Link, II, Charles M.', 'Kim, Min-Soo', 'Lee, Eun-Kyu', 'Jang, Byung-Tae', 'Kouchiyama, Satoshi', 'Karashima, Teruhiko', 'LOHI, Hannu', 'Fernandez, Dennis S.', 'Berkobin, Eric C.', 'Leddy, Jeffrey', 'Pryor, Timothy R.', 'Videtich, Matt C.', 'Tengler, Steven C.', 'Peirce, Kenneth L.', 'Alrabady, Ansaf I.', 'Madhavan, Sethu K.', 'Kennelly, Thomas J.', 'Oesterling, Christopher L.', 'Heines, Richard F.', 'Oesterling, Christopher L.', 'Ampunan, Nathan', 'Clark, Jason W.', 'Christensen, Jeffrey P.', 'Michelini, Michelle L.', 'Tengler, Steven C.', 'Tengler, Steven C.', 'Johnson, Richard A.', 'Patenaude, Russell A.', 'Meissner, Christine E.', 'Fernandez, Dennis S.', 'Woo, Jae Hyun', 'Heo, Sung Wook', 'Hesse, Michael', 'St�hlin, Ulrich', 'Zhang, Yilu', 'Salman, Mutasim A.', 'Edwards, Ryan M.', 'Correia, John J.', 'Rychlinski, Mark J.', 'Gantt, JR., Gary W.', 'Subramania, Halasya Siva', 'Lobes, Kyle L.', 'TAYLOR, WARREN', 'Hassib, Ash', 'Madison, Bill', 'Patenaude, Russell A.', 'Tengler, Steven C.', 'Pryor, Bryan K.', 'Albertson, William C.', 'Mc Donald, Mike M.', 'Lines, Jeffery D.', 'Doherty, James', 'Krause, Kevin R.', 'Yi, Kihak', 'Kassam, Ayaz S.', 'YOO, Siyun', 'Ampunan, Nathan D.', 'Grost, Timothy J.', 'Owens, Kevin W.', 'Dickinson, Richard', 'Hines, John Gordon', 'Croy, Jonathan', 'Mazzara, JR., William E.', 'Nixon, Timothy R.', 'Bradburn, Travis L.', 'Parks, Jason J.', 'KIM, Young-Mun', 'Zhang, Yilu', 'Ampunan, Nathan D.', 'Rychlinski, Mark J.', 'Howell, Mark N.', 'Zhang, Xiaodong', 'Inbarajan, Krishnaraj', 'Correia, John J.', 'Salman, Mutasim A.', 'Gilbert, Mark E.', 'Loewer, Paul W.', 'Dost, Shirley B.', 'Berkobin, Eric', 'Berkobin, Alex', 'Kalinadhabhotla, Deep', 'Bradley, James C.', 'Klinger, Rodney J.', 'Sumcad, Anthony J.', 'Patenaude, Russell A.', 'Michalek, Jeffrey L.', 'Gibb, Mark', 'Do, In-Young', 'Davidson, Mark J.', 'Olsen, III, John A.', 'JIN, Seung-Hee', 'Davidson, Mark J.', 'Olsen, III, John A.', 'PISZ, James T.', 'Avary, Michelle L.', 'Oesterling, Christopher L.', 'Heald, Richard', 'Peterson, Michael L.', 'Videtich, Matt C.', 'HWANG, Jung-Hyun', 'RYU, Jung-Hak', 'CHOI, Jin-Seok', 'Giuli, Thomas J.', 'Prasad, Krishnaswamy Venkatesh', 'Huang, Henry Heping', 'Ginder, John Matthew', 'Wheatley, Timothy John', 'Tailor, Mahendra J J', 'Dobbing, Andrew', 'Sehyun, PARK', 'Gwangyeon, KIM', 'Yong, KIM', 'Yoon Sik, UHM', 'Zi on, HWANG', 'Ho Jin, JIN', 'Boulia, Matthew J.', 'Pedrazzi, Franco', 'Taylor, Tom', 'Dickie, Dane', 'Bennett, JR., Richard E.', 'Ferrick, David P.', 'Scalcione, Christina', 'Steinberg, Gal', 'Kennewick, Robert A.', 'Locke, David', 'Kennewick, SR., Michael R.', 'Kennewick, JR., Michael R.', 'Kennewick, Richard', 'Freeman, Tom', 'Elston, Stephen F.', 'Huber, Chester A.', 'Christensen, Jeffrey P.', 'Solomon, Michael D.', 'Hering, Carl J.', 'LEE, Sang Ho', 'Kim, Kyu Hyung', 'Kim, Gwang Su', 'Lee, Ho Geun', 'Bae, Jang Sik', 'Jeong, Young Kyu', 'Kim, Joung Sik', 'Kim, Jin Sam', 'Jung, Ji Sung', 'Roberts, Randy', 'Dickie, Dane', 'Peterson, Michael', 'Bradburn, Travis Lyle', 'Chmielewski, Laura R.', 'Choi, Jong-Hyuk', 'Ahn, Byung-Koo', 'Madhavan, Sethu K.', 'Yi, Ki Hak', 'Madhavan, Sethu K.', 'Yi, Ki Hak', 'Madhavan, Sethu K.', 'Yi, Ki Hak', 'Madhavan, Sethu K.', 'Yi, Ki Hak', 'Madhavan, Sethu K.', 'Yi, Ki Hak', 'Madhavan, Sethu K.', 'Yi, Ki Hak', 'Taylor, David W.', 'McCarthy, Kevin C.', 'Lynam, Niall R.', 'Schofield, Kenneth', 'Choi, Jong-Hyuk', 'Ahn, Byung-Koo', 'Lin, William C.', 'Litkouhi, Bakhtiar Brian', 'Alrabady, Ansaf I.', 'Murty, Balarama V.', 'Zhang, Xiaodong', 'Holland, Steven W.', 'Salman, Mutasim A.', 'Debouk, Rami I.', 'Chin, Yuen-Kwok', 'ZHANG, YILU', 'Rychlinski, Mark J.', 'Ampunan, Nathan D.', 'Chin, Yuen-Kwok', 'Inbarajan, Krishnaraj', 'Loewer, Paul W.', 'Gilbert, Mark E.', 'Dost, Shirley B.', 'Yoon, Daesub', 'Lee, Soocheol', 'Kwon, Ohcheon', 'Kim, Sun-Joong', 'Lee, Moon-Soo', 'Choi, Yeon-Jun', 'Haas, Gregory Alan', 'Hoch, Nathan', 'Smith, Andrew', 'Roepke, Randall', 'Martinez, Anthony S.', 'Watkins, Gary A.', 'Oesterling, Christopher L.', 'Burt, Wylie R.', 'Zoeckler, Dennis L.', 'Granda, Shawn F.', 'Krause, Kevin R.', 'Mays, Wesley M.', 'SMITH, PETER H.', 'PRYOR, TIMOTHY R.', 'Mays, Wesley M.', 'Choi, Jong-Hyuk', 'Ahn, Byung-Koo', 'ZHANG, YILU', 'RYCHLINSKI, MARK J.', 'AMPUNAN, NATHAN D.', 'CHIN, YUEN-KWOK', 'INBARAJAN, KRISHNARAJ', 'SALMAN, MUTASIM A.', 'LOEWER, PAUL W.', 'GILBERT, MARK E.', 'DOST, SHIRLEY B.', 'Link, II, Charles M.', 'Link, II, Charles M.', 'Dickie, Dane', 'Peterson, Michael', 'Gordon, Marc', 'Kirsch, Paul', 'Link, Kevin', 'Vadney, Mike', 'Leyerle, James W.', 'Haralson, Jessica L.', 'Schwinke, Steven P.', 'Prasad, Krishnaswamy Venkatesh', 'Arndt, Christoph', 'Cepuran, Lawrence D.', 'Dutta, Ashutosh', 'Chen, Wai', 'Altintas, Onur', 'Madhani, Sunil', 'Suwa, Yoshihisa', 'Cai, Shengwei', 'Leyerle, James W.', 'Krause, Kevin R.', 'Johnson, Richard A.', 'Fernandez, Dennis S.', 'Koen, Robert John', 'Koepf, Gerhard', 'Yandrofski, Robert', 'Perry, Roy G.', 'Cooper, Jonathan', 'Caballero Catoira, Jose Benito', 'Hawley, Chadwick Todd', 'Odinak, Gilad', 'Kostepen, Hakan', 'Danieli, Oren', 'Link, II, Charles M.', 'Kraft, Clifford H.', 'Dossas, Vasilios', 'TIEMAN, Craig A.', 'OMAN, Todd P.', 'SULTAN, Michel F.', 'PARTIN, Dale L.', 'Hoch, Nathan', 'Ippolito, Luigi Piero', 'Seminara, Massimo', 'Greco, Giordano', 'Allen, Bradley K.', 'Cazanas, Carlos A.', 'Khan, Azam', 'Tims, Brian F.', 'Genesin, Pietro', 'Di Pede, Adriana', 'Canovi, Luca', 'Marzani, Stefano', 'Montanari, Roberto', 'Ferretti, Marco', 'Pavesi, Andrea', 'Konlditslotis, Chris', 'Edwards, Brain', 'Graham, Taylor', 'Greg, Lippiatt', 'Imbimbo, Amedeo', 'de Luca, Enrico', 'Gehlen, Guido', 'Madhavan, Sethu K.', 'Yi, Ki Yak', 'Chesnutt, Elizabeth', 'Yi, Ki Hak', 'Madhavan, Sethu K.', 'Yi, Ki Hak', 'Madhavan, Sethu K.', 'Yi, Ki Hak', 'Madhavan, Sethu K.', 'Madhavan, Sethu K.', 'Yi, Ki Yak', 'Madhavan, Sethu K.', 'Yi, Ki Yak', 'Yi, Ki Hak', 'Madhavan, Sethu K.', 'Yi, Ki Hak', 'Madhavan, Sethu K.', 'Madhavan, Sethu K.', 'Yi, Ki Yak', 'Chesnutt, Elizabeth', 'Madhavan, Sethu K.', 'Yi, Ki Hak', 'Schafer, J�rg', 'Toma, David', 'Dunne, Kevin Francis', 'McHenry, James', 'Rappoport, Bruce Joel', 'Sotnikow, Jack', 'Bodin, Milton', 'SUMIZAWA, Akio', 'SUMIZAWA, Akio', 'Berkobin, Eric', 'Elliott, Bryant', 'Hoch, Nathan', 'Smith, Andrew', 'Economos, George A.', 'Brink, Gregory T.', 'Basir, Otman A.', 'Miners, William Ben', 'Krivtsov, Sergey M.', 'TENGLER, STEVEN C.', 'MAZZARA, JR., WILLIAM E.', 'Nguyen, Binh Ke', 'Isaac, Emad S.', 'Grivas, Nick J.', 'Peterson, David P.', 'Van Bosch, James A.', 'Walby, James', 'Berg, Gregory H.', 'Amigo, Andrew J.', 'Peak, David F.', 'Lowrey, Larkin H.', 'Borrego, Diego A.', 'Wettig, Alan', 'Lightner, Bruce Davis', 'Banet, Matthew J.', 'Washicko, Paul', 'Berkobin, Eric C.', 'Link, II, Charles M.', 'Krause, Kevin R.', 'Laghrari, Fahd Z.', 'Peak, David F.', 'Amigo, Andrew J.', 'CHRISTENSEN, JEFFREY P.', 'SOLOMON, MICHAEL D.', 'HERING, CARL J.', 'EDWARDS, RYAN M.', 'PARKS, JASON J.', 'BRADBURN, TRAVIS L.', 'CHMIELEWSKI, LAURA R.', 'Gault, Thomas A.', 'Bruce, Yaovi S.', 'Farrell, Tod', 'Ellingson, Robert Orson', 'Farrell, Tod', 'Ellingson, Robert Orson', 'Farrell, Tod', 'Ellingson, Robert Orson', 'JUNG, Ilgu', 'LEE, Byung Yun', 'LEE, Byung Sun', 'Farrell, Tod', 'Ellingson, Robert Orson', 'Farrell, Tod', 'Ellingson, Robert Orson', 'Rysenga, Jeffrey P.', 'Ramamurthy, Kannan', 'Sidhu, Navjot', 'Mackenzie, Patricia Denise', 'Carbone, John William', 'Theurer, Charles Burton', 'Salvo, Joseph James', 'Jesson, Joseph Edward', 'LIM, In Gi', 'Kang, Sung Weon', 'Park, Hyung Il', 'Hyoung, Chang Hee', 'Hwang, Jung Hwan', 'Kang, Tae Wook', 'Kim, Kyung Soo', 'Kim, Jung Bum', 'Kim, Sung Eun', 'Hyun, Seok Bong', 'Park, Kyung Hwan', 'Choi, Byoung Gun', 'Kang, Tae Young', 'Edwards, Ryan M.', 'Michalak, Heather C.', 'Amigo, Andrew J.', 'Bodas, Rohit S.', 'Lei, Yao Hui', 'Yi, Ki Hak', 'Ross, Steven J.', 'Chrumka, Edward P.', 'Hunt, Robert', 'Washicko, Paul L.', 'KIM, Sooyun', 'Hashim-Waris, Mohammed', 'Foladare, Mark J.', 'Croley, James A.', 'Ohm, David', 'Nerup, Carl L.', 'Rahman, Waliur', 'Purushothaman, Satish', 'Zoeckler, Dennis L.', 'Granda, Shawn F.', 'Jiang, Yi', 'Shibata, Hiroaki', 'Shinoda, Koji', 'Seo, Hyunju', 'Mahmoud, Mustafa', 'Yang, Wan-ping', 'Shi, Thomas', 'Yang, Wan-ping', 'Shibata, Hiroaki', 'Shinoda, Koji', 'Seo, Hyunju', 'Mahmoud, Mustafa', 'Jiang, Yi', 'Shi, Thomas', 'Zoeckler, Dennis L.', 'Moll, Richard J.', 'Yarnold, Christina', 'Bennett, Richard', 'Macdonald, Andrew J.', 'Saraydar, Cem U.', 'Madhavan, Sethu K.', 'LEMMONS, ALBERT G.', 'Riley, Steven B.', 'Sridhara, K.', 'Acharya, P.V.', 'Pallab, Dutta', 'Bharat, Ravichandran', 'Videtich, Matt C.', 'Poling, David Glen', 'Wallace, Daniel John', 'GERSTBERGER, Christian', 'Goeckelmann, Ralph', 'Lehmann, Dirk', 'Guenkova Luy, Teodora', 'Das, Swapan', 'Beams, Darren', 'Cawse, Neil', 'Wallace, Erik', 'Morin, Drew', 'Pitt, Lance D.', 'Murphy, Sean', 'Wallace, Erik', 'Morin, Drew', 'Pitt, Lance D.', 'Murphy, Sean', 'GRATKE, JESSE T.', 'Owens, Kevin W.', 'McGarry, Daniel C.', 'Peariso, Nicholas J.', 'Krause, Kevin R.', 'Patenaude, Russell A.', 'OESTERLING, CHRISTOPHER L.', 'CARR, DARYL L.', 'CHRISTENSEN, JEFFREY P.', 'SOLOMON, MICHAEL D.', 'Madhavan, Sethu K.', 'Yi, Ki Hak', 'Adams, David A.', 'Patenaude, Russell A.', 'Krause, Kevin R.', 'MacDonald, Andrew J.', 'Yi, Ki Hak', 'Madhavan, Sethu K.', 'Peirce, Kenneth L.', 'PROEFKE, DAVID T.', 'BIONDO, WILLIAM A.', 'KRAUSE, KEVIN R.', 'VIDETICH, MATT C.', 'CORREIA, JOHN J.', 'CHRISTENSEN, JEFFREY P.', 'SOLOMON, MICHAEL D.', 'CARR, DARYL L.', 'Lowrey, Larkin H.', 'Borrego, Diego A.', 'Wettig, Alan', 'Lightner, Bruce Davis', 'Banet, Matthew J.', 'Washicko, Paul', 'Berkobin, Eric C.', 'Link, II, Charles M.', 'NAM, Kyung Bo', 'LEE, Choong Hee', 'NAM, Kyung Bo', 'LEE, Choong Hee', 'NAM, Kyung Bo', 'LEE, Choong Hee', 'NAM, Kyung Bo', 'LEE, Choong Hee', 'Schullian, John M.', 'Leger-Andrews, David St.', 'Weseloh, Christopher J.', 'OWENS, KEVIN W.', 'PATENAUDE, RUSSELL A.', 'McGARRY, DANIEL C.', 'VIDETICH, MATT C.', 'OESTERLING, CHRISTOPHER L.', 'Kim, Sung Yun', 'Kim, Ji-Hwon', 'Bae, Hyun Cheol', 'Yoon, Hun Joung', 'Doherty, James', 'Blanck, Michael J.', 'PEARISO, NICHOLAS J.', 'PATENAUDE, RUSSELL A.', 'Bakis, Raimo', 'Eide, Ellen M.', 'Hamza, Wael', 'Kim, Myung Hoe', 'Kim, Woo Sung', 'Hwang, Do Sung', 'Yoon, Hyung Jin', 'Kim, Sung Yun', 'Sung, Woo Suk', 'Kim, Ji-Hwon', 'Bai, Fan', 'Grimm, Donald K.', 'Saraydar, Cem U.', 'Boulia, Matthew J.', 'Berg, Gregory H.', 'Amigo, Andrew J.', 'Peak, David F.', 'MADDULAPALLI, ANIL KUMAR', 'RAGHAVAN, N.R. SRINIVASA', 'Josefiak, Frank', 'Aftabruyan, Hassan', 'Hering, Carl J.', 'Nixon, Timothy R.', 'Przybylski, Matthew G.', 'Mackay, Gavin John', 'Marshall, Lloyd Allan', 'Timm, Richard David Noel', 'Kim, Sung Woo', 'Lim, Ji Hyun', 'Park, Sung Woo', 'Jin, Geum Dan', 'Doherty, James', 'Yi, Ki Hak', 'Leyerle, James W.', 'Swanson, Steven', 'Otterson, Scott W.', 'Bai, Fan', 'Grimm, Donald K.', 'Correia, John J.', 'Choi, Yong Hoon', 'Bosscher, Paul M.', 'Summer, Matthew D.', 'Wilkinson, Loran J.', 'Bowman, William S.', 'Bosscher, Paul M.', 'Summer, Matthew D.', 'KRAUSE, KEVIN R.', 'PATENAUDE, RUSSELL A.', 'McGARRY, DANIEL C.', 'OWENS, KEVIN W.', 'PEARISO, NICHOLAS J.', 'Kaminski, Charles', 'Hassib, Ash', 'Przybylski, Matthew G.', 'Yi, Ki Hak', 'Madhavan, Sethu K.', 'Cepuran, Lawrence D.', 'Holt, David A.', 'Elliott, Bryant', 'Odinak, Gilad', 'Kaminski, Charles', 'Hassib, Ash', 'Snider, James', 'Swanson, Steven', 'Miners, William Ben', 'Hawari, Hani', 'Toonstra, Jason', 'Lajeunesse, Daniel Evan', 'Rysenga, Jeffrey P.', 'Eling, Russ', 'Yi, Ki Hak', 'Madhavan, Sethu K.', 'Doherty, James', 'Yi, Ki Hak', 'Inabathuni, Tarun', 'Frendberg, Maria A.', 'Farrell, Tod', 'Ellingson, Robert Orson', 'Halimi, Sammy', 'Copland, Craig George Kenneth', 'Halimi, Sammy', 'Copland, Craig George Kenneth', 'Bonasera, James', 'Deeb, Steven', 'Yanamula, Bharath', 'Sanker, Karuthapandian R.', 'Davidson, Mark J.', 'Olsen, III, John A.', 'WISNEWSKI, Mark A.', 'SCHWINKE, Steven P.', 'MADHAVAN, Sethu K.', 'YI, Ki Hak', 'YASAN, Eray', 'Yi, Ki Hak', 'Madhavan, Sethu K.', 'Cepuran, Lawrence D.', 'Holt, David A.', 'Biondo, William A.', 'Baker, George', 'Proefke, David T.', 'Fondaw, Kevin E.', 'McCormick, Catherine L.', 'Owens, Kevin W.', 'McGarry, Daniel C.', 'Reichert, Kurt J.', 'Chmielewski, Laura R.', 'Holt, David A.', 'Kado, Delano K.', 'Baik, Jong Seok', 'Mannikka, Matthew R.', 'Day, Brian A.', 'CHOI, Jong-Hyuk', 'AHN, Byung-Koo', 'Peterson, Don', 'POLING, David G.', 'HAMILTON, Jeffrey A.', 'WALLACE, Daniel J.', 'Poling, David G.', 'Wallace, Daniel J.', 'Janky, James M.', 'Bruce, Yaovi S.', 'Kim, Chong Soo', 'Mannikka, Matthew R.', 'Lei, Yao Hui', 'Madhavan, Sethu K.', 'Peirce, Kenneth L.', 'Yi, Ki Hak', 'Yi, Ki Hak', 'Yasan, Eray', 'Walli, Thomas', 'Partheniou, Anthonios', 'Cawse, Clive', 'Beams, Darren', 'Cawse, Neil', 'PRYOR, Timothy R.', 'Guenkova-Luy, Teodora', 'Naboulsi, Mouhamad A.', 'Chien, Ho-Sung', 'Edwards, Ryan M.', 'Kelly, III, James J.', 'Michalak, Heather C.', 'Wang, Chih-Hsiang', 'Chung, Jin-Chin', 'Chu, Shih-Tsun', 'Chang, Yuan-Yi', 'Huang, Chun-Lung', 'Kuo, Chih-Chung', 'Swanson, David Scott', 'Bertlin, Brian Andrew', 'Shipper, Donald Edward', 'Munson, Eric', 'Mullins, Jerome Lee', 'Willis, Richard', 'Guenkova-Luy, Teodora', 'Abt, Oliver', 'Clauss, Martin', 'Yi, Ki Hak', 'Peirce, Kenneth L.', 'George, David', 'Madhavan, Sethu K.', 'OWENS, KEVIN W.', 'SAUERBREY, STEVEN S.', 'VIDETICH, MATT C.', 'HUGHES TELEMATICS, INC.,', 'Berg, Gregory H.', 'Amigo, Andrew J.', 'Peak, David F.', 'Oesterling, Christopher L.', 'Stefan, Jeffrey M.', 'Schumann, JR., Douglas D.', 'Carges, Alex M.', 'Slattery, Michael Patrick', 'Lim, Ben J.', 'Dabholkar, Harsha M.', 'Allianz Telematics S.p.A.,', 'LEXISNEXIS RISK SOLUTIONS INC.,', 'Brey, Thomas A.', 'Cepuran, Lawrence D.', 'Schwinke, Steven P.', 'United Parcel Service of America, Inc.,', 'Snider, James', 'SAPENA SOLER, Francisco', 'Sapena Soler, Francisco', 'Sirius XM Radio, Inc.,', 'Billington, Peter Eric', 'Wallett, Christopher Michael', 'HARMAN BECKER AUTOMOTIVE SYSTEMS GMBH', 'Panelli, Alexander Flavio', 'Schalk, Nicole L.', 'LexisNexis Risk Solutions Inc.', 'Beams, Darren', 'Cawse, Neil', 'Burcham, Robert H.', 'Delker, Jason R.', 'Katzer, Robin D.', 'Peirce, Kenneth L.', 'Hay, Curtis L.', 'Macdonald, Andrew J.', 'LexisNexis Risk Solutions Inc.', 'Fernandes, Steven J.', 'Feero, Steven R.', 'Fernandes, Steven J.', 'Feero, Steven R.', 'Fernandes, Steven J.', 'Feero, Steven R.', 'Ranieri, Ronald', 'Heppenheimer, Robert', 'KANG, Tae Wook', 'General Motors LLC', 'Bauer, Lee', 'Geiger, Erich', 'Peirce, Kenneth L.', 'Madhavan, Sethu K.', 'Macdonald, Andrew J.', 'Bauer, Lee', 'Geiger, Erich', 'Harman Becker Automotive Systems GmbH', 'Bauer, Lee', 'Geiger, Erich', 'Bayerische Motoren Werke Aktiengesellschaft', 'Cellport Systems, Inc.', 'HTI IP, LLC', 'Trimble Navigation Limited', 'anyDATA Corporation', 'Bai, Fan', 'Rabadi, Nader M.', 'Pop, David P.', 'Correia, John J.', 'Valadas Preto, Manuel Janssen', 'QUALCOMM INCORPORATED', 'Harman Becker Automotive Systems GmbH', 'GENERAL MOTORS LLC', 'Zonar Systems, Inc.', 'Choi, Yoon Jeong', 'Son, Dae Lim', 'Lee, Eun Bok', 'Jung, Jun Yong', 'Hartford Fire Insurance Company', 'LLEIDANETWORKS SERVEIS TELEM?TICS S. A.', 'STATE FARM INSURANCE', 'Extreme Telematics Corp.', 'FORD GLOBAL TECHNOLOGIES, LLC', 'Douthitt, Brian L.', 'Zeinstra, Mark L.', 'Dembinski, David T.', 'Tenchov, Kaloyan', 'Zubie, Inc.', 'Weather Telematics Inc.', 'GENERAL MOTORS LLC', 'GENERAL MOTORS LLC', 'FORD GLOBAL TECHNOLOGIES, LLC', 'MOJ.IO INC.', 'United Services Automobile Association', 'Extreme Telematics Corp.', 'Sirius XM Connected Vehicle Services Inc.', 'Martin?z Sancho, Vicent', 'GENERAL MOTORS LLC', 'The Inner Circle Group LLC', 'CENTRE FOR DEVELOPMENT OF TELEMATICS (C-DOT)', 'GENERAL MOTORS LLC', 'CAMBRIDGE MOBILE TELEMATICS', 'Sirius XM Radio Inc.', 'CENTER FOR DEVELOPMENT OF TELEMATICS (C-DOT)', 'SKUPIN, Christian', 'Nisko Telematics 2012 Limited Partnership', 'GM GLOBAL TECHNOLOGY OPERATIONS LLC', 'GM Global Technology Operations LLC', 'General Motors LLC', 'The Morey Corporation', 'General Motors LLC', 'Momin, Zulfiqar N.', 'Moledina, Ahmed', 'General Motors LLC', 'Lowrey, Larkin H.', 'Borrego, Diego A.', 'Wettig, Alan', 'Lightner, Bruce Davis', 'Banet, Matthew J.', 'Washicko, Paul', 'Berkobin, Eric C.', 'Link, II, Charles M.', 'Sygnet Rail Technologies, LLC', 'GM GLOBAL TECHNOLOGY OPERATIONS LLC', 'DriveFactor', 'United Parcel Service of America, Inc.', 'HYUNDAI MOTOR COMPANY', 'Zubie, Inc.', 'GM GLOBAL TECHNOLOGY OPERATIONS LLC', 'HARRIS CORPORATION', 'General Motors LLC', 'Lleidanetworks Serveis Telematics, S.A.', 'RENAULT s.a.s.', 'Quartix Limited', 'Vendwatch Telematics, LLC', 'Ford Global Technologies, LLC', 'Tourmaline Labs, Inc.', 'GM Global Technology Operations LLC', 'General Motors LLC', 'Hyundai Motor Company', 'Terry, Kevin', 'Gulfstream Telematics LLC', 'GENERAL MOTORS LLC', 'HTI IP, LLC', 'Redtail Telematics Limited', 'Panelli, Alexander Flavio', 'Innova Electronics, Inc.', 'Hyundai Motor Company', 'HYUNDAI MOTOR COMPANY', 'UNITED PARCEL SERVICE OF AMERICA, INC.', 'Verizon Patent and Licensing Inc.', 'UNITED PARCEL SERVICE OF AMERICA, INC.', 'Hartford Fire Insurance Company', 'ZONAR SYSTEMS, INC.', 'General Motors LLC', 'General Motors LLC', 'General Motors LLC', 'Sirius XM Connected Vehicle Services Inc.', 'Tadic, Srdjan', 'Dramicanin, Dejan', 'Karaklajic, Branko', 'Fernandes, Steven J.', 'Feero, Steven R.', 'HTI, IP, L.L.C.', 'CELLCO PARTNERSHIP D/B/A VERIZON WIRELESS', 'Hyundai Motor Company', 'Amigo, Andrew J.', 'Bodas, Rohit S.', 'Telematics Wireless Ltd.', 'FORD GLOBAL TECHNOLOGIES, LLC', 'Ford Global Technologies, LLC', 'Hyundai Motor Company', 'Ford Global Technologies, LLC', 'HYUNDAI MOTOR COMPANY', 'CAMBRIDGE MOBILE TELEMATICS', 'Punjabi, Manish', 'Baccay, Peter Eymard', 'GM GLOBAL TECHNOLOGY OPERATIONS LLC', 'General Motors LLC', 'Cambridge Mobile Telematics', 'Discovery Limited', 'STATE FARM MUTUAL AUTOMOBILE INSURANCE COMPANY', 'Cellport Systems, Inc.', 'General Motors LLC', 'GM Global Technology Operations LLC', 'WABCO GmbH', 'CLARION CO., LTD.', 'Fernandes, Steven J.', 'Feero, Steven R.', 'Hartford Fire Insurance Company', 'GM GLOBAL TECHNOLOGY OPERATIONS LLC', 'Sirius XM Connected Vehicle Services Inc.', 'LexisNexis Risk Solutions Inc.', 'Verizon Patent and Licensing Inc.', 'TeleCommunication Systems, Inc.', 'General Motors LLC', 'GM Global Technology Operations LLC', 'Redtail Telematics Limited', 'TomTom Telematics B.V.', 'Redtail Telematics Limited', 'Kia Motors Corporation', 'Ford Global Technologies, LLC', 'HYUNDAI MOTOR COMPANY', 'Vendwatch Telematics, LLC', 'Harman Becker Automotive Systems GmbH', 'Toyota Motor Engineering & Manufacturing North America, Inc.', 'Verizon Patent and Licensing Inc.', 'AutoConnect Holdings LLC', 'Avis Budget Car Rental, LLC', 'Caterpillar Inc.', 'Afeli, Joseph Ike', 'GENERAL MOTORS LLC', 'QUALCOMM Incorporated', 'Hyundai Motor Company', 'TomTom Telematics  B.V.', 'TomTom Telematics  B.V.', 'MOJ.IO INC.', 'General Motors LLC', 'HYUNDAI MOTOR COMPANY', 'TomTom Telematics B.V.', 'TomTom Telematics B.V.', 'HYUNDAI MOTOR COMPANY', 'HYUNDAI MOTOR COMPANY', 'AUDI AG', 'Hyundai Motor Company', 'Extreme Telematics Corp.', 'Panelli, Alexander Flavio', 'Vendwatch Telematics, LLC', 'Continental Automotive Systems, Inc.', 'Ford Global Technologies, LLC', 'Ford Global Technologies, LLC', 'Hyundai Motor Company', 'Berg, Gregory H.', 'Amigo, Andrew J.', 'Peak, David F.', 'Hyundai Motor Company', 'Hyundai Motor Company', 'Ford Global Technologies, LLC', 'TOMTOM TELEMATICS B.V.', 'Ford Global Technologies, LLC', 'Geotab Inc', 'Continental Automotive Systems, Inc.', 'HYUNDAI MOTOR COMPANY', 'National Central University', 'DANA LIMITED', 'Punjabi, Manish', 'Baccay, Peter Eymard', 'Sirius XM Connected Vehicle Services Inc.', 'TOMTOM TELEMATICS B.V.', 'BLUE DOT SOLUTIONS, LLC', 'Kapsch TrafficCom AB', 'Hyundai Motor Company', 'Osann, JR., Robert', 'ILLINOIS TOOL WORKS INC.', 'Fazi, Peter', 'Weather Telematics Inc.', 'Maison, Neth', 'Randall, Cole', 'Bermudez, Edward', 'MOJ.IO INC.', 'NEARBY SENSORS, S.L.', 'TRAPITT TECNOLOGIAS, S.L.', 'GM GLOBAL TECHNOLOGY OPERATIONS LLC', 'General Motors LLC', 'Caterpillar Inc.', 'LEAR CORPORATION', 'MOJ.IO INC.', 'Hyundai Motor Company', 'General Motors LLC', 'Gelbart, Jeremy Z.', 'Wolf, Steven J.', 'META SYSTEM S.P.A.', 'Cellport Systems, Inc.', 'RISK TELEMATICS UK LIMITED', 'Hyundai Motor Company', 'FORD GLOBAL TECHNOLOGIES, LLC', 'HYUNDAI MOTOR COMPANY', 'Discovery Limited', 'Cambridge Mobile Telematics', 'Ford Global Technologies, LLC', 'MASTERCARD INTERNATIONAL INCORPORATED', 'General Motors LLC', 'GM Global Technology Operations LLC', 'GM GLOBAL TECHNOLOGY OPERATIONS LLC', 'VENDWATCH TELEMATICS, LLC', 'Centre for Development of Telematics', 'Verizon Patent and Licensing Inc.', 'Carey, Daniel L.', 'Accenture Global Solutions Limited', 'Discovery Limited', 'Cambridge Mobile Telematics', 'Zendrive, Inc.', 'Geotab Inc.', 'Geotab Inc.', 'Geotab Inc.', 'Geotab Inc.', 'Geotab Inc.', 'RENAULT s.a.s', 'Geotab Inc.', 'Yardarm Technologies, Inc.', 'United Parcel Service of America, Inc.', 'Sbianchi, Fabio', 'Giannella, Gianfranco', 'Extreme Telematics Corp.', 'MOJ.IO INC.', 'Sirius XM Connected Vehicle Services Inc.', 'Laird Technologies, Inc.', 'Laird Technologies, Inc.', 'Vendwatch Telematics, LLC', 'Extreme Telematics Corp.', 'HYUNDAI MOTOR COMPANY', 'Allstate Insurance Company', 'LEE, SANG J.', 'GHALIB, SYED NAVEED', 'TeMeDa LLC', 'Bayerische Motoren Werke Aktiengesellschaft', 'General Motors LLC', 'Verizon Patent and Licensing Inc.', 'FORD GLOBAL TECHNOLOGIES, LLC', 'TomTom Telematics B.V.', 'FORD GLOBAL TECHNOLOGIES, LLC', 'Ford Global Technologies, LLC', 'HARTFORD FIRE INSURANCE COMPANY', 'HARTFORD FIRE INSURANCE COMPANY', 'United Parcel Service of America, Inc.', 'MediaTek Inc.', 'GM GLOBAL TECHNOLOGY OPERATIONS LLC', 'GM GLOBAL TECHNOLOGY OPERATIONS LLC', 'Verizon Telematics Inc.', 'TomTom Telematics B.V.', 'Verizon Patent and Licensing Inc.', 'TomTom Telematics B.V.', 'TomTom Telematics B.V.', 'TomTom Telematics B.V.', 'FORD GLOBAL TECHNOLOGIES, LLC', 'GM Global Technology Operations LLC', 'TATA CONSULTANCY SERVICES LIMITED', 'Vendwatch Telematics, LLC', 'MOJ.IO INC.', 'FORD GLOBAL TECHNOLOGIES, LLC', 'Cervantes, Arturo', 'Haney, Robert Ray', 'Geotab Inc.', 'CENTRE FOR DEVELOPMENT OF TELEMATICS', 'Laird Technologies, Inc.', 'Truck-Lite Co. LLC', 'Sirius XM Connected Vehicle Services Inc.', 'Swiss Reinsurance Company Ltd.', 'CENTRE FOR DEVELOPMENT OF TELEMATICS', 'Swiss Reinsurance Company Ltd.', 'Jaguar Land Rover Limited', 'CENTRE FOR DEVELOPMENT OF TELEMATICS (C-DOT)', 'GM GLOBAL TECHNOLOGY OPERATIONS LLC', 'ELSE CORP S.r.l.', 'Swiss Reinsurance Company Ltd.', 'General Motors LLC', 'Toyota Motor Sales, U.S.A., Inc.', 'Intel Corporation', 'Cummins Inc.', 'GENERAL MOTORS LLC', 'M2MD Technologies, Inc.', 'CENTRE FOR DEVELOPMENT OF TELEMATICS (C-DOT)', 'FORD GLOBAL TECHNOLOGIES, LLC', 'GENERAL MOTORS LLC', 'Hyundai Motor Company', 'Geotab Inc.', 'Whale Tankers Limited', 'Peiker Acustic GmbH & Co. KG, Valeo Peiker Telematics Product Line', 'Cambridge Mobile Telematics', 'TomTom Telematics B.V.', 'OCTO Telematics S.p.A.', 'FORD GLOBAL TECHNOLOGIES, LLC', 'International Business Machines Corporation', 'FORD GLOBAL TECHNOLOGIES, LLC', 'MOJ.IO INC.', 'Bendix Commercial Vehicle Systems LLC', 'Sirius XM Connected Vehicle Services Inc.', 'Ford Global Technologies, LLC', 'Rosenberger Telematics GmbH', 'FORD GLOBAL TECHNOLOGIES, LLC', 'Ford Global Technologies, LLC', 'Continental Automotive Systems, Inc.', 'Kolls, H. Brock', 'Oesterling, Christopher L.', 'Watkins, Gary A.', 'Clark, Noel E.', 'Sinicki, Steven J.', 'Kolls, H. Brock', 'Braun, Guenter', 'Klausing, Helmut', 'Sziraki, David', 'Huang, Xiaopei', 'Hunt, Robert', 'Lowrey, Larkin', 'Banet, Matthew', 'McKibbon, Douglas J.', 'Knockeart, Ronald P.', 'Rode, Melvin A.', 'Delgiudice, Gregory', 'Mazzara, William E.', 'Hichme, Michael A.', 'Simon, Anthony Luke', 'Watkins, Gary A.', 'Oesterling, Christopher L.', 'Stefan, Jeffrey M.', 'Kamdar, Hitan S.', 'Enborg, Kenneth', 'Patenaude, Russell A.', 'Reeser, Brad T.', 'Oesterling, Christopher L.', 'Sumcad, Anthony J', 'Stefan, Jeffrey M.', 'Rennells, Ernest B.', 'Ross, Steven J.', 'Macfarlane, Jane F.', 'Rybicki, Julie A.', 'Schwinke, Steven P.', 'Mazzara, Jr., William E.', 'Breed, David S.', 'DuVall, Wilbur E.', 'Johnson, Wendell C.', 'Oesterling, Christopher L.', 'Pryor, Timothy R.', 'Kim, Hyong-Kyun', 'Williams, III, Lawrence E.', 'Mintz, Josef', 'Addy, Kenneth L.', 'Mazzara, William E.', 'Ashman, John S.', 'Przybylski, Matthew G.', 'Sumcad, Anthony J.', 'Oesterling, Christopher L.', 'Patenaude, Russell A.', 'Kamdar, Hitan S.', 'Reeser, Brad T.', 'Veliu, Shpetim S.', 'Mocek, Darryl J.', 'McWalter, William F.', 'Razavi, Behfar', 'Decristo, Dianna L.', 'Kelly, Lisa M.', 'Mocek, Darryl', 'Nguyen, Huan T.', 'Taylor, David W.', 'McCarthy, Kevin C.', 'Lynam, Niall R.', 'Schofield, Kenneth', 'Kobayashi, Junichi', 'Bai, Sue', 'Mocek, Darryl', 'Watkins, Gary A.', 'Oesterling, Christopher L.', 'Mazzara, Jr., William E.', 'Hichme, Michael A.', 'Crocker, Dwayne A.', 'Wang, Mingheng', 'Piwowarski, James J.', 'Ross, Allan L.', 'McWhirter, William D.', 'Weaver, John S.', 'Jordan, Paul R.', 'DeBolt, Arthur', 'Taipale, Asko', 'Messina, Andrew Albert', 'King, Jack Harold', 'Chrysochoos, Michael', 'Bator, Philip Mark', 'Zerod, Richard', 'Fedak, Taras O.', 'Stark, Brett G.', 'Khamharn, Oddy N.', 'Arunkumar, Uma', 'Lowrey, Larkin Hill', 'Banet, Matthew J.', 'Washicko, Paul', 'Gould, Garett W.', 'Averkamp, Joseph', 'Kamdar, Hitan S.', 'Kukulski, Michael', 'Sumcad, Anthony J.', 'Oesterling, Christopher L.', 'Watkins, Gary A.', 'Stefan, Jeffrey M.', 'Patenaude, Russell A.', 'Olsen, John', 'Bradley, David', 'Jenkins, Rhesa', 'Ma, Jin-Suk', 'Kim, Sun-Ja', 'Basson, Sara H.', 'Fairweather, Peter G.', 'Kanevsky, Dimitri', 'Wang, Mingheng', 'Chrumka, Edward P.', 'Oesterling, Christopher L.', 'Huber, Chester A.', 'Nou, Seong Taeg', 'Oesterling, Christopher L.', 'McGarry, Daniel C.', 'Oesterling, Christopher L.', 'Watkins, Gary A.', 'Chiu, Wanli', 'Laghrari, Fahd Z.', 'Zambo, Michael G.', 'Oesterling, Christopher L.', 'Economos, George A.', 'Ross, Steven J.', 'Veliu, Shpetim S.', 'Sumcad, Anthony J.', 'Kamdar, Hitan S.', 'Woolford, Paul', 'Carlsson, Roger', 'Ceglia, Michael J.', 'Miller, S. Robert', 'Jeon, Ji-Youn', 'Kim, Jin-Won', 'Park, Chan-Woo', 'Crocker, Dwayne A.', 'Gryc, Andrew J.', 'Glaza, Mark J.', 'Correia, John J.', 'Nou, Seong-Taeg', 'Kim, Hyeon-Su', 'Lim, Chang-Hwan', 'Lim, Jung-Hyun', 'Han, Jung-Mi', 'Lee, Jun-Ho', 'Fernandez, Dennis S.', 'Fernandez, Dennis S.', 'Rockett, David W.', 'Suurmeyer, Andrea K.', 'Kavi, Sateesh', 'Grenn, Daniel P.', 'Spaur, Charles W.', 'Kennedy, Patrick J.', 'Braitberg, Michael F.', 'Fuchs, Axel', 'Klingenstein, Nate', 'Lee, Lane', 'Oesterling, Christopher L.', 'Fernandez, Dennis S.', 'Hines, Jeffrey S.', 'Peyravian, Mohammad', 'Sabhikhi, Ravinder K.', 'Schwinke, Steven P.', 'Mazzara, Jr., William E.', 'Italia, William E.', 'Freilich, Robert W.', 'Sumcad, Anthony J.', 'Bicego, James', 'Kamdar, Hitan S.', 'Sumcad, Anthony J.', 'Reeser, Brad T.', 'Kamdar, Hitan S.', 'Kong, Byong Yong', 'Rockett, David W.', 'Watkins, Gary A.', 'Beiermeister, Frederick J.', 'Park, Sang-Ho', 'Ringel, Thomas', 'Schilke, Martin', 'Schluesener, Tim', 'Olsen, John', 'Bradley, David', 'Jenkins, Rhesa', 'Ampunan, Nathan D.', 'Regmont, Dennis F.', 'Rychlinski, Mark', 'Inbarajan, Krishnaraj', 'Zhang, Yilu', 'Oesterling, Christopher L.', 'Patenaude, Russell A.', 'Kamdar, Hitan S.', 'Patenaude, Russell A.', 'Sumcad, Anthony J.', 'Veliu, Shpetim S.', 'Reeser, Brad T.', 'Olsen, John', 'Bradley, David', 'Jenkins, Rhesa', 'Sonnenrein, Thomas', 'Bauer, Norbert', 'Steingruebner, Mihai', 'Weiss, Cornelia', 'Fischer, Joerg', 'Watkins, Gary A.', 'Devereux, Michael J.', 'Brancheau, Jon M.', 'Williams, Wade', 'Yuen, Randy', 'Badham, Vern', 'Mazzara, Jr., William E.', 'Gault, Thomas A.', 'Groskreutz, Bruce A.', 'Krause, Kevin R.', 'Mazzara, Jr., William E.', 'Powers, Robert B.', 'Massoll, Charles A.', 'Bojanowski, David E', 'Young, Richard A.', 'Aryal, Bijaya', 'Angell, Linda S.', 'Nou, Seong Taeg', 'Montvay, Andras', 'Reiter, Harald', 'Lauter, Josef', 'Schmidt, Ralf', 'Such, Olaf', 'Reichinger, Christian', 'Patenaude, Russell A.', 'Kogowski, Patty Valerio', 'Reeser, Brad T.', 'Petschke, Julianne', 'Olsen, John', 'Bradley, David', 'Jenkins, Rhesa', 'Fernandez, Dennis S.', 'Legate, Ian', 'Stott, David', 'Tak, Jin-Hee', 'Hunt, Robert', 'Washicko, Paul L.', 'Patenaude, Russell A.', 'Sumcad, Anthony J.', 'Kamdar, Hitan S.', 'Nou, Seong Taeg', 'Nou, Seong Taeg', 'Watkins, Gary A.', 'Oesterling, Christopher L', 'Burt, Wylie R', 'Oesterling, Christopher L.', 'Fernandez, Dennis', 'Nou, Seong Taeg', 'Wang, Mingheng', 'Ross, Steven J.', 'Chrumka, Edward P.', 'Kim, Young-Mun', 'Kwon, Oh Il', 'Dorfstatter, Walter A.', 'Oesterling, Christopher L.', 'Peterson, Michael L.', 'Lee, Eun-Hee', 'Moon, Yong-Khon', 'Hines, Jeffrey S.', 'Peyravian, Mohammad', 'Sabhikhi, Ravinder K.', 'Weiss, John P.', 'Glaza, Mark J.', 'Piwowarski, James J.', 'Hunt, Robert', 'Washicko, Paul L.', 'Balestri, Massimo', 'De Petris, Gianluca', 'Olsen, John', 'Bradley, David', 'Jenkins, Rhesa', 'Breen, Thomas Bernard', 'Becker, Michael', 'Lappe, Dirk', 'Gieseke, Arnold', 'Bicego, James E.', 'Sumcad, Anthony J.', 'Patenaude, Russell A.', 'Zhang, Yilu', 'Regmont, Dennis F.', 'Ampunan, Nathan', 'Rychlinski, Mark J.', 'Inbarajan, Krishnaraj', 'Song, Haiping', 'Chengalvarayan, Rathinavelu', 'Correia, John J', 'Pennock, Scott M', 'Michel, Philippe', 'Marie, Francois', 'Courtemanche, Bernard', 'Dutta, Ashutosh', 'Chen, Wai', 'Altintas, Onur', 'Madhani, Sunil', 'Suwa, Yoshihisa', 'Cai, Shengwei', 'Hunt, Robert', 'Washicko, Paul L.', 'Li, Wei-Min', 'Chen, Long-Tai', 'Huang, Li-Kung', 'Hines, Jeffrey S.', 'Peyravian, Mohammad', 'Sabhikhi, Ravinder K.', 'Nou, Seong Taeg', 'Jamali, Hamadi', 'Madhavan, Sethu', 'Yi, Ki Hak', 'Chesnutt, Elizabeth', 'Fecher, Dana B.', 'Basson, Sara H.', 'Fairweather, Peter G.', 'Kanevsky, Dimitri', 'Hay, Curtis L.', 'Fillwock, Brian W.', 'Groskreutz, Bruce A.', 'Gault, Thomas A.', 'Nicolini, Daniele', 'Ross, Allan L.', 'McWhirter, William D.', 'Weaver, John S.', 'Jordan, Paul R.', 'Ampunan, Nathan', 'Hering, Carl J.', 'Oesterling, Christopher L.', 'Kim, Do-Sung', 'Cho, Won-Hee', 'Park, Jin-Kyung', 'Choi, In-Joon', 'Park, Min-Hui', 'Murlidar, Jaycee', 'Ampunan, Nathan D.', 'Clark, Jason W.', 'Wasson, Ryan J.', 'Weiss, John P.', 'Dunne, Kevin Francis', 'McHenry, James', 'Rappoport, Bruce Joel', 'Kim, Young-Mun', 'Dunne, Kevin Francis', 'Rappoport, Bruce Joel', 'McHenry, James', 'Grivas, Nick J.', 'Peterson, David P.', 'Van Bosch, James A.', 'Walby, James', 'Lowrey, Larkin H.', 'Borrego, Diego A.', 'Wettig, Alan', 'Lightner, Bruce Davis', 'Banet, Matthew J.', 'Washicko, Paul', 'Berkobin, Eric C.', 'Link, II, Charles M.', 'Watkins, Gary A.', 'Devereux, Michael J.', 'Brancheau, Jon M.', 'Mazzara, Jr., William E.', 'Oesterling, Christopher L.', 'Petschke, Julianne', 'Sharma, Manish', 'Roshan, Rakesh', 'Narasappa, Manjunath Bittanakurike', 'Arunachalam, Bhavani Shanker', 'Radhakrishna, Suresh', 'Clement, William', 'Jaisingh, Joe', 'Fernandez, Dennis Sunga', 'Dunne, Kevin F.', 'McHenry, James', 'Lefkofsky, Mitch', 'Laghrari, Fahd Z.', 'Sumcad, Anthony J.', 'Yi, Ki Hak', 'Dale, John L.', 'Chesnutt, Elizabeth', 'Bicego, Jr., James', 'Gerlach, Jonathan L.', 'Rennells, Ernest B.', 'Patenaude, Russell A.', 'Arun, Uma', 'Bradley, James C.', 'Klinger, Rodney J.', 'Dunne, Kevin Francis', 'McHenry, James', 'Rappoport, Bruce Joel', 'Schullian, John M.', 'St. Leger-Andrews, David', 'Weseloh, Christopher J.', 'Bakis, Raimo', 'Eide, Ellen M.', 'Hamza, Wael', 'Lowrey, Larkin H.', 'Borrego, Diego A.', 'Wettig, Alan', 'Lightner, Bruce Davis', 'Banet, Matthew J.', 'Washicko, Paul', 'Berkobin, Eric C.', 'Link, II, Charles M.', 'Sumcad, Anthony J.', 'Patenaude, Russell A.', 'Bruce, Yaovi S.', 'Chmielewski, Laura', 'Italia, William E.', 'Boulia, Matthew J.', 'Yi, Ki Hak', 'Madhavan, Sethu K.', 'Woo, Jae Hyun', 'Mauti, Jr., Thomas K.', 'Jung, Jin-Hyuk', 'Kim, Wa-Sung', 'Oh, Min-Seok', 'Krause, Kevin R.', 'Yi, Ki Hak', 'Madhavan, Sethu K.', 'Van Bosch, James A.', \"D'Avello, Robert F.\", 'Yasan, Eray', 'Madhavan, Sethu', 'Basanyake, Chaminda', 'Markyvech, Craig', 'Patil, Abhijit', 'Prasad, Krishnaswamy Venkatesh', 'Arndt, Christoph', 'Hermann, Thomas Joseph', 'Boll, David P', 'Nahear, Shemon Avraham', 'Crawley, Casimir Johan', 'Strader, Alan Lee', 'Kamdar, Hitan S.', 'Patenaude, Russell A.', 'Sumcad, Anthony J.', 'Veliu, Shpetim', 'Reeser, Brad T.', 'Do, In-Young', 'Yang, Wan-ping', 'Shibata, Hiroaki', 'Shinoda, Koji', 'Seo, Hyunjo', 'Mahmoud, Mustafa', 'Jiang, Yi', 'Shi, Thomas', 'Zhang, Yilu', 'Salman, Mutasim A.', 'Edwards, Ryan M.', 'Correia, John J.', 'Rychlinski, Mark J.', 'Gantt, Jr., Gary W', 'Subramania, Halasya Siva', 'Lobes, Kyle L', 'Yi, Ki Hak', 'Madhavan, Sethu K.', 'Jamali, Hamadi', 'Choi, Jong-Hyuk', 'Ahn, Byung-Koo', 'Lohi, Hannu', 'Choi, Jong-Hyuk', 'Ahn, Byung-Koo', 'Barragan Trevino, Alfonso Javier', 'Rose, Herbert', 'Hwang, Jung-Hyun', 'Ryu, Jung-Hak', 'Choi, Jin-Seok', 'Nielsen, Benjamin Jason', 'Krause, Kevin R.', 'Yi, Ki-Hak', 'Chesnutt, Elizabeth', 'Rusignuolo, Giorgio', 'McDonald, Patrick', 'Barnett, Kevin L.', 'Nguyen, Eden T.', 'Wheatley, Timothy John', 'Tailor, Mahendra J J', 'Dobbing, Andrew', 'Bakis, Raimo', 'Eide, Ellen Marie', 'Hamza, Wael Mohamed', 'Choi, Jong-Hyuk', 'Ahn, Byung-Koo', 'Doherty, James', 'Krause, Kevin R.', 'Yi, Ki Hak', 'Kassam, Ayaz S.', 'Otterson, Scott W.', 'Wallace, Erik', 'Morin, Drew', 'Pitt, Lance D.', 'Murphy, Sean', 'Link, II, Charles M.', 'Link, Kevin W.', 'Kirsch, Paul', 'Gordan, Marc', 'Berg, Gregory H.', 'Amigo, Andrew J.', 'Peak, David F.', 'Berg, Gregory H.', 'Amigo, Andrew J.', 'Peak, David F.', 'Owens, Kevin W.', 'McGarry, Daniel C.', 'Peariso, Nicholas J.', 'Krause, Kevin R.', 'Patenaude, Russell A.', 'Lei, Yao Hui', 'Yi, Ki Hak', 'Zhang, Yilu', 'Ampunan, Nathan D.', 'Rychlinski, Mark J.', 'Howell, Mark N.', 'Zhang, Xiaodong', 'Inbarajan, Krishnaraj', 'Correia, John J.', 'Salman, Mutasim A.', 'Gilbert, Mark E.', 'Loewer, Paul W.', 'Dost, Shirley B.', 'Ross, Steven J.', 'Johnson, Richard A.', 'Chrumka, Edward P.', 'Das, Swapan', 'Zoeckler, Dennis L.', 'Moll, Richard J.', 'Davidson, Mark J.', 'Olsen, III, John A.', 'Ross, Allan L.', 'McWhirter, William D.', 'Weaver, John S.', 'Choi, Jong-Hyuk', 'Ahn, Byung-Koo', 'Haralson, Jessica L.', 'Economos, George A.', 'Rysenga, Jeffrey P.', 'Bodrie, Dennis M.', 'Italia, William E.', 'Chmielewski, Laura R.', 'Holt, David A.', 'Kado, Delano K.', 'Baik, Jong Seok', 'Mannikka, Matthew R.', 'Day, Brian A.', 'Tengler, Steven C.', 'Johnson, Richard A.', 'Bai, Fan', 'Grimm, Donald K.', 'Saraydar, Cem U.', 'Jiang, Yi', 'Shibata, Hiroaki', 'Shinoda, Koji', 'Seo, Hyunju', 'Mahmoud, Mustafa', 'Yang, Wan-ping', 'Shi, Thomas', 'Bai, Fan', 'Grimm, Donald K.', 'Correia, John J.', 'Przybylski, Matthew G.', 'Malalur, Paresh Govind', 'Balakrishnan, Hari', 'Madden, Samuel Ross', 'Peariso, Nicholas J.', 'Patenaude, Russell A.', 'Rysenga, Jeffrey P.', 'Eling, Russ', 'Pryor, Timothy R.', 'Pryor, Timothy R.', 'Barragan Trevino, Alfonso Javier', 'Rose, Herbert', 'Oesterling, Christopher L.', 'Carr, Daryl L.', 'Christensen, Jeffrey P.', 'Solomon, Michael D.', 'Kim, Myung Hoe', 'Kim, Woo Sung', 'Hwang, Do Sung', 'Yoon, Hyung Jin', 'Kim, Sung Yun', 'Sung, Woo Suk', 'Kim, Ji-Hwon', 'Hering, Carl J.', 'Edwards, Ryan M.', 'Lowrey, Larkin H.', 'Borrego, Diego A.', 'Wettig, Alan', 'Lightner, Bruce Davis', 'Banet, Matthew J.', 'Washicko, Paul', 'Berkobin, Eric C.', 'Link, II, Charles M.', 'Mazzara, Jr., William E.', 'Peterson, Michael J.', 'Crocker, Dwayne A.', 'Maten, Michael', 'Owens, Kevin W.', 'Patenaude, Russell A.', 'McGarry, Daniel C.', 'Videtich, Matt C.', 'Oesterling, Christopher L.', 'Yi, Ki Hak', 'Madhavan, Sethu K.', 'Peirce, Kenneth L.', 'Bruce, Yaovi S.', 'Kim, Chong Soo', 'Mannikka, Matthew R.', 'Yi, Ki Hak', 'Madhavan, Sethu K.', 'Cepuran, Lawrence D.', 'Holt, David A.', 'Barragan Trevino, Alfonso Javier', 'Rose, Herbert', 'Yi, Ki Hak', 'Madhavan, Sethu K.', 'Cepuran, Lawrence D.', 'Holt, David A.', 'Bauer, Lee', 'Geiger, Erich', 'Videtich, Matt C.', 'Correia, John J.', 'Christensen, Jeffrey P.', 'Solomon, Michael D.', 'Carr, Daryl L.', 'Sumcad, Anthony J.', 'Chesnutt, Elizabeth', 'Krause, Kevin R.', 'Yi, Ki Hak', 'Wisnewski, Mark A', 'Schwinke, Steven P.', 'Madhavan, Sethu K.', 'Yi, Ki Hak', 'Yasan, Eray', 'Link, II, Charles M.', 'Poling, David Glen', 'Wallace, Daniel John', 'Owens, Kevin W.', 'McGarry, Daniel C.', 'Peariso, Nicholas J.', 'Krause, Kevin R.', 'Patenaude, Russell A.', 'Kim, Sung Yun', 'Kim, Ji-Hwon', 'Bae, Hyun Cheol', 'Yoon, Hun Joung', 'Pryor, Timothy R.', 'Bauer, Lee', 'Geiger, Erich', 'Fraser, Ronald W.', 'Piwowarski, James J.', 'Glaza, Mark J.', 'Weiss, John P.', 'Snider, James', 'Farrell, Tod', 'Ellingson, Robert Orson', 'Oesterling, Christopher L.', 'Ampunan, Nathan', 'Yi, Ki Hak', 'Peirce, Kenneth L.', 'Hay, Curtis L.', 'Macdonald, Andrew J.', 'Burcham, Robert H.', 'Delker, Jason R.', 'Katzer, Robin D.', 'Dabholkar, Harsha M.', 'Amigo, Andrew J.', 'Bodas, Rohit S.', 'Cepuran, Lawrence D.', 'Remy, C?dric', 'Biondo, William A.', 'Baker, George', 'Proefke, David T.', 'Fondaw, Kevin E.', 'McCormick, Catherine L.', 'Doherty, James', 'Blanck, Michael J.', 'Bauer, Lee', 'Geiger, Erich', 'Yi, Ki Hak', 'Yasan, Eray', 'Tang, Jin', 'Yi, Ki Hak', 'Madhavan, Sethu K.', 'Bauer, Thomas Michael', 'Basir, Otman A.', 'Miners, William Ben', 'Krivtsov, Sergey M.', 'Imbimbo, Amedeo', 'De Luca, Enrico', 'Gehlen, Guido', 'Beams, Darren', 'Cawse, Neil', 'Dutta, Ashutosh', 'Chen, Wai', 'Altintas, Onur', 'Madhani, Sunil', 'Suwa, Yoshihisa', 'Cai, Shengwei', 'Kennedy, Patrick J.', 'Fuchs, Axel', 'Spaur, Charles W.', 'Heo, Sung Wook', 'Inabathuni, Tarun', 'Frendberg, Maria A.', 'Fernandes, Steven J.', 'Feero, Steven R.', 'Ramamurthy, Kannan', 'Sidhu, Navjot', 'Przybylski, Matthew G.', 'Peterson, Don', 'Beams, Darren', 'Cawse, Neil', 'Bradburn, Travis Lyle', 'Chmielewski, Laura R.', 'Schullian, John M.', 'St. Leger-Andrews, David', 'Weseloh, Christopher J.', 'Oesterling, Christopher L.', 'Stefan, Jeffrey M.', 'Lim, In Gi', 'Kang, Sung Weon', 'Park, Hyung Il', 'Hyoung, Chang Hee', 'Hwang, Jung Hwan', 'Kang, Tae Wook', 'Kim, Kyung Soo', 'Kim, Jung Bum', 'Kim, Sung Eun', 'Hyun, Seok Bong', 'Park, Kyung Hwan', 'Choi, Byoung Gun', 'Kang, Tae Young', 'Farrell, Tod', 'Ellingson, Robert Orson', 'Farrell, Tod', 'Ellingson, Robert Orson', 'Bauer, Lee', 'Geiger, Erich', 'Kim, Sung Woo', 'Lim, Ji Hyun', 'Park, Sung Woo', 'Jin, Geum Dan', 'Willis, Richard Ernest', 'Farrell, Tod', 'Ellingson, Robert Orson', 'Snider, James', 'Farrell, Tod', 'Ellingson, Robert Orson', 'Yi, Ki Hak', 'Madhavan, Sethu K.', 'Fernandes, Steven J.', 'Feero, Steven R.', 'Josefiak, Frank', 'Aftabruyan, Hassan', 'Heimerl, Stefan', 'Baugatz, Julian', 'Wiechmann, Andreas', 'Farrell, Tod', 'Ellingson, Robert Orson', 'Jin, Seung-Hee', 'Bai, Fan', 'Rabadi, Nader M.', 'Pop, David P.', 'Correia, John J.', 'Laghrari, Fahd Z.', 'Krause, Kevin R.', 'Myers, Robert J.', 'Cepuran, Lawrence D.', 'Schwinke, Steven P.', 'Hering, Carl J.', 'Nixon, Timothy R.', 'Miners, William Ben', 'Hawari, Hani', 'Toonstra, Jason', 'Lajeunesse, Daniel Evan', 'Choi, Yong Hoon', 'Edwards, Ryan M.', 'Michalak, Heather C.', 'Gratke, Jesse T.', 'Yi, Ki Hak', 'Madhavan, Sethu K.', 'Grivas, Nick J.', 'Peterson, David P.', 'Van Bosch, James A.', 'Walby, James', 'United Parcel Service of America, Inc.', 'Harman Becker Automotive Systems GmbH', 'Bosscher, Paul M.', 'Summer, Matthew D.', 'Wilkinson, Loran J.', 'Bowman, William S.', 'Bosscher, Paul M.', 'Summer, Matthew D.', 'Ball, William L.', 'Schwinke, Steven P.', 'LexisNexis Risk Solutions Inc.', 'Swanson, David Scott', 'Bertlin, Brian Andrew', 'Shipper, Donald Edward', 'Munson, Eric', 'Mullins, Jerome Lee', 'State Farm Mutual Automobile Insurance Company', 'Yi, Ki Hak', 'Peirce, Kenneth L.', 'Madhavan, Sethu K.', 'Macdonald, Andrew J.', 'General Motors LLC', 'Owens, Kevin W.', 'Sauerbrey, Steven S.', 'Videtich, Matt C.', 'Ford Global Technologies, LLC', 'Sridhara, Kasa', 'Acharya, Padur Vadiraja', 'Pallab, Dutta', 'Bharat, Ravichandran', 'Yi, Ki Hak', 'Peirce, Kenneth L.', 'George, David', 'Shuart, Kristen M.', 'Doherty, James', 'Yi, Ki Hak', 'Harris Corporation', 'Fernandes, Steven J.', 'Feero, Steven R.', 'Boulia, Matthew J.', 'GM Global Technology Operations LLC', 'Cazanas, Carlos A.', 'Khan, Azam', 'Butz, Matthew', 'Farrell, Tod', 'Ellingson, Robert Orson', 'Halimi, Sammy', 'Copland, Craig George Kenneth', 'Skupin, Christian', 'Hartford Fire Insurance Company', 'Choi, Yoon Jeong', 'Son, Dae Lim', 'Lee, Eun Bok', 'Jung, Jun Yong', 'General Motors LLC', 'General Motors LLC', 'Allstate Insurance Company', 'General Motors LLC', 'Schalk, Nicole L.', 'Doherty, James', 'Yi, Ki Hak', 'GENERAL MOTORS LLC', 'Sygnet Rail Technologies, LLC', 'Barragan, Alfonso', 'Rose, Herb', 'Crow, James', 'General Motors LLC', 'Cellport Systems, Inc.', 'General Motors LLC', 'FORD GLOBAL TECHNOLOGIES, LLC', 'Lorello, Timothy J.', 'Hamilton, Elliott', 'LexisNexis Risk Solutions Inc.', 'Hyundai Mobis Co., Ltd.', 'General Motors LLC', 'GM GLOBAL TECHNOLOGY OPERATIONS LLC', 'Harman Becker Automotive Systems GmbH', 'Zubie, Inc.', 'Nam, Kyung Bo', 'Lee, Choong Hee', 'Fernandez, Dennis S.', 'HTI IP LLC', 'General Motors LLC', 'Cambridge Mobile Telematics', 'Verizon Patent and Licensing Inc.', 'Fernandez, Dennis S.', 'Hyundai Motor Company', 'Vendwatch Telematics, LLC', 'Hyundai Motor Company', 'Sprint Communications Company L.P.', 'Fernandez, Dennis S.', 'HTI IP, LLC', 'General Motors LLC', 'HARTFORD FIRE INSURANCE COMPANY', 'Punjabi, Manish', 'Baccay, Peter Eymard', 'Extreme Telematics Corp.', 'Yarnold, Christina', 'Bennett, Richard', 'GM GLOBAL TECHNOLOGY OPERATIONS LLC', 'Tourmaline Labs, Inc.', 'Harman Becker Automotive Systems GmbH', 'HTI IP, LLC', 'UNITED PARCEL SERVICE OF AMERICA, INC.', 'Ford Global Technologies, LLC', 'Edwards, Ryan M.', 'Kelly, III, James J.', 'Michalak, Heather C.', 'Madhavan, Sethu K.', 'Yi, Ki Hak', 'Adams, David A.', 'Patenaude, Russell A.', 'Krause, Kevin R.', 'MacDonald, Andrew J.', 'General Motors LLC', 'General Motors LLC', 'Hyundai Motor Company', 'MOJ.IO INC.', 'Ford Global Technologies, LLC', 'General Motors LLC', 'HTI IP, LLC', 'HTI IP, LLC', 'HTI IP, L.L.C.', 'General Motors LLC', 'HUGHES TELEMATICS, INC.', 'Sirius XM Connected Vehicle Services Inc.', 'HTI IP, L.L.C.', 'Barfield, James R.', 'Hyundai Motor Company', 'Wireless Telematics LLC', 'HTI IP, LLC', 'General Motors LLC', 'GM Global Technology Operations LLC', 'Swanson, Steven', 'Sapena Soler, Francisco', 'HTI IP, LLC', 'Zubie, Inc.', 'Brey, Thomas A.', 'The Morey Corporation', 'Verizon Patent and Licensing Inc.', 'UNITED PARCEL SERVICE OF AMERICA, INC.', 'HTI IP, LLC', 'United Services Automobile Association', 'HTI, IP, L.L.C.', 'General Motors LLC', 'STATE FARM MUTUAL AUTOMOBILE INSURANCE COMPANY', 'Verizon Telematics Inc.', 'Qualcomm Incorporated', 'HARTFORD FIRE INSURANCE COMPANY', 'Hyundai Motor Company', 'Clarion Co., Ltd.', 'General Motors LLC', 'Geotab Inc', 'Hyundai Motor Company', 'Sirius XM Connected Vehicle Services Inc.', 'HTI IP, L.L.C.', 'Verizon Telematics Inc.', 'Guenkova-Luy, Teodora', 'Extreme Telematics Corp.', 'HTI IP, L.L.C.', 'Sprint Communications Company L.P.', 'Hyundai Motor Company', 'International Business Machines Corporation', 'Sprint Communications Company L.P.', 'General Motors LLC', 'STATE FARM MUTUAL AUTOMOBILE INSURANCE COMPANY', 'GM GLOBAL TECHNOLOGY OPERATIONS LLC', 'Osann, Jr., Robert', 'Vendwatch Telematics, LLC', 'Davidson, Mark J.', 'Olsen, III, John A.', 'Hyundai Motor Company', 'Sirius XM Connected Vehicle Services Inc.', 'Avis Budget Car Rental, LLC', 'Barfield, James R.', 'Taylor, Thomas S.', 'Kalinadhabhotla, Deep', 'Trimble Navigation Limited', 'Ford Global Technologies, LLC', 'HTI IP, LLC', 'General Motors LLC', 'HTI IP, LLC', 'AUDI AG', 'Schmidt, Alexander', 'Kreim, Stefan', 'Winkler, Tom', 'Discovery Limited', 'Cambridge Mobile Telematics', 'Cellport Systems, Inc.', 'Ford Global Technologies, LLC', 'HARTFORD FIRE INSURANCE COMPANY', 'Allstate Insurance Company', 'HARTFORD FIRE INSURANCE COMPANY', 'Toyota Motor Engineering & Manufacturing North America, Inc.', 'STATE FARM MUTUAL AUTOMOBILE INSURANCE COMPANY', 'QUALCOMM Incorporated', 'Hyundai Motor Company', 'Ford Global Technologies, LLC', 'GM GLOBAL TECHNOLOGY OPERATIONS LLC', 'GM GLOBAL TECHNOLOGY OPERATIONS LLC', 'Caterpillar Inc.', 'HTI, IP, L.L.C.', 'United Parcel Service of America, Inc.', 'HTI IP, LLC', 'General Motors LLC', 'MetOcean Data Systems Limited', 'Fleetilla, LLC', 'GENERAL MOTORS LLC', 'United Services Automobile Association', 'CELLCO PARTNERSHIP', 'Poling, David G.', 'Hamilton, Jeffrey A.', 'Wallace, Daniel J.', 'Berkobin, Eric', 'Blumer, Frederick T.', 'Nisko Telematics 2012 Limited Partnership', 'Allstate Insurance Company', 'TomTom Telematics B.V.', 'Sirius XM Connected Vehicle Services Inc.', 'Pryor, Timothy R.', 'Poling, David G.', 'Wallace, Daniel J.', 'Janky, James M.', 'Vendwatch Telematics, LLC', 'Rockett, David W.', 'Beiermeister, Frederick J.', 'Gumushian, Gary M.', 'Geotab Inc.', 'FORD GLOBAL TECHNOLOGIES, LLC', 'Schumann, Jr., Douglas D.', 'Carges, Alex M.', 'Slattery, Michael Patrick', 'Lim, Ben J.', 'STATE FARM MUTUAL AUTOMOBILE INSURANCE COMPANY', 'VERIZON TELEMATICS INC.', 'Elliott, Bryant', 'MetOcean Data Systems Limited', 'HTI IP, LLC', 'Lleidanetworks Serveis Telematics, S.A.', 'Sprint Communications Company L.P.', 'HYUNDAI MOTOR COMPANY', 'TomTom Telematics B.V.', 'United Services Automobile Association', 'STATE FARM MUTUAL AUTOMOBILE INSURANCE COMPANY', 'STATE FARM MUTUAL AUTOMOBILE INSURANCE COMPANY', 'STATE FARM MUTUAL AUTOMOBILE INSURANCE COMPANY', 'STATE FARM MUTUAL AUTOMOBILE INSURANCE COMPANY', 'STATE FARM MUTUAL AUTOMOBILE INSURANCE COMPANY', 'STATE FARM MUTUAL AUTOMOBILE INSURANCE COMPANY', 'STATE FARM MUTUAL AUTOMOBILE INSURANCE COMPANY', 'Cambridge Mobile Telematics Inc.', 'HYUNDAI MOTOR COMPANY', 'HTI, IP, L.L.C.', 'MOJ.IO INC.', 'Verizon Patent and Licensing Inc.', 'Laird Technologies, Inc.', 'Hyundai Motor Company', 'TomTom Telematics B.V.', 'Harman Becker Automotive Systems GmbH', 'HYUNDAI MOTOR COMPANY', 'MOJ.IO INC.', 'Hyundai Motor Company', 'United Parcel Service of America, Inc.', 'STATE FARM MUTUAL AUTOMOBILE INSURANCE COMPANY', 'Geotab Inc.', 'Lleidanetworks Serveis Telem?tics S.A.', 'Oesterling, Christopher L.', 'Heines, Richard F.', 'Allianz Telematics S.p.A.', 'Laird Technologies, Inc.', 'Barfield, James', 'Taylor, Tom', 'Hyundai Motor Company', 'General Motors LLC', 'ALLSTATE INSURANCE COMPANY', 'Yardarm Technologies, Inc.', 'STATE FARM MUTUAL AUTOMOBILE INSURANCE COMPANY', 'Sapena Soler, Francisco', 'Sirius XM Connected Vehicle Services Inc.', 'ALLSTATE INSURANCE COMPANY', 'ALLSTATE INSURANCE COMPANY', 'ALLSTATE INSURANCE COMPANY', 'ALLSTATE INSURANCE COMPANY', 'Sbianchi, Fabio', 'Giannella, Gianfranco', 'ALLSTATE INSURANCE COMPANY', 'Velado, Nicholas F.', 'Velado, Fernando A.', 'TomTom Telematics B.V.', 'TomTom Telematics B.V.']\n"
     ]
    }
   ],
   "source": [
    "#The Applicant name listed on a patent application, or Inventor or joint inventors who are applying for a patent \n",
    "#on their own invention. Phrase search is also supported (Example \"Fehr, John\").\n",
    "applicants = []\n",
    "for i in range(len(docs)):\n",
    "    try:\n",
    "        for j in range(len(docs[i]['applicant'])):\n",
    "            applicants.append(docs[i]['applicant'][j])\n",
    "    except KeyError:\n",
    "            continue\n",
    "print(applicants)"
   ]
  },
  {
   "cell_type": "code",
   "execution_count": 148,
   "metadata": {},
   "outputs": [],
   "source": [
    "applicants_df = pd.DataFrame(applicants,columns=['Name'])"
   ]
  },
  {
   "cell_type": "code",
   "execution_count": 149,
   "metadata": {
    "scrolled": true
   },
   "outputs": [
    {
     "data": {
      "text/html": [
       "<div>\n",
       "<style scoped>\n",
       "    .dataframe tbody tr th:only-of-type {\n",
       "        vertical-align: middle;\n",
       "    }\n",
       "\n",
       "    .dataframe tbody tr th {\n",
       "        vertical-align: top;\n",
       "    }\n",
       "\n",
       "    .dataframe thead th {\n",
       "        text-align: right;\n",
       "    }\n",
       "</style>\n",
       "<table border=\"1\" class=\"dataframe\">\n",
       "  <thead>\n",
       "    <tr style=\"text-align: right;\">\n",
       "      <th></th>\n",
       "      <th>Name</th>\n",
       "    </tr>\n",
       "  </thead>\n",
       "  <tbody>\n",
       "    <tr>\n",
       "      <th>0</th>\n",
       "      <td>MOJ.IO INC.</td>\n",
       "    </tr>\n",
       "    <tr>\n",
       "      <th>1</th>\n",
       "      <td>Sirius XM Radio Inc.</td>\n",
       "    </tr>\n",
       "    <tr>\n",
       "      <th>2</th>\n",
       "      <td>Discovery Limited</td>\n",
       "    </tr>\n",
       "    <tr>\n",
       "      <th>3</th>\n",
       "      <td>Cambridge Mobile Telematics</td>\n",
       "    </tr>\n",
       "    <tr>\n",
       "      <th>4</th>\n",
       "      <td>Toyota Motor Sales, U.S.A., Inc.</td>\n",
       "    </tr>\n",
       "  </tbody>\n",
       "</table>\n",
       "</div>"
      ],
      "text/plain": [
       "                               Name\n",
       "0                       MOJ.IO INC.\n",
       "1              Sirius XM Radio Inc.\n",
       "2                 Discovery Limited\n",
       "3       Cambridge Mobile Telematics\n",
       "4  Toyota Motor Sales, U.S.A., Inc."
      ]
     },
     "execution_count": 149,
     "metadata": {},
     "output_type": "execute_result"
    }
   ],
   "source": [
    "applicants_df.head()"
   ]
  },
  {
   "cell_type": "code",
   "execution_count": 150,
   "metadata": {},
   "outputs": [],
   "source": [
    "top_apps = applicants_df['Name'].value_counts()"
   ]
  },
  {
   "cell_type": "code",
   "execution_count": 151,
   "metadata": {},
   "outputs": [
    {
     "data": {
      "text/plain": [
       "Yi, Ki Hak                                        48\n",
       "Madhavan, Sethu K.                                38\n",
       "General Motors LLC                                38\n",
       "Oesterling, Christopher L.                        38\n",
       "Hyundai Motor Company                             25\n",
       "STATE FARM MUTUAL AUTOMOBILE INSURANCE COMPANY    24\n",
       "Patenaude, Russell A.                             22\n",
       "Ford Global Technologies, LLC                     19\n",
       "Krause, Kevin R.                                  19\n",
       "GM GLOBAL TECHNOLOGY OPERATIONS LLC               18\n",
       "Oesterling, Christopher                           17\n",
       "TomTom Telematics B.V.                            15\n",
       "Sumcad, Anthony J.                                15\n",
       "Link, II, Charles M.                              14\n",
       "FORD GLOBAL TECHNOLOGIES, LLC                     14\n",
       "Farrell, Tod                                      14\n",
       "Ellingson, Robert Orson                           14\n",
       "Sumcad, Anthony                                   14\n",
       "HTI IP, LLC                                       13\n",
       "Fernandez, Dennis S.                              13\n",
       "Watkins, Gary A.                                  13\n",
       "Patenaude, Russell                                13\n",
       "HYUNDAI MOTOR COMPANY                             13\n",
       "Schwinke, Steven P.                               13\n",
       "Correia, John J.                                  12\n",
       "Sirius XM Connected Vehicle Services Inc.         12\n",
       "Ampunan, Nathan                                   11\n",
       "Kamdar, Hitan                                     11\n",
       "MOJ.IO INC.                                       11\n",
       "Bauer, Lee                                        11\n",
       "Olsen, John                                       11\n",
       "Jenkins, Rhesa                                    11\n",
       "GENERAL MOTORS LLC                                11\n",
       "Geiger, Erich                                     11\n",
       "Bradley, David                                    11\n",
       "Geotab Inc.                                       11\n",
       "Verizon Patent and Licensing Inc.                 11\n",
       "Amigo, Andrew J.                                  10\n",
       "Allstate Insurance Company                        10\n",
       "Peirce, Kenneth L.                                10\n",
       "Watkins, Gary                                     10\n",
       "Chesnutt, Elizabeth                               10\n",
       "Pryor, Timothy R.                                 10\n",
       "Mazzara, William E.                                9\n",
       "Kamdar, Hitan S.                                   9\n",
       "Vendwatch Telematics, LLC                          8\n",
       "Feero, Steven R.                                   8\n",
       "Edwards, Ryan M.                                   8\n",
       "Cepuran, Lawrence D.                               8\n",
       "Fernandes, Steven J.                               8\n",
       "Name: Name, dtype: int64"
      ]
     },
     "execution_count": 151,
     "metadata": {},
     "output_type": "execute_result"
    }
   ],
   "source": [
    "top_apps[:50]"
   ]
  },
  {
   "cell_type": "code",
   "execution_count": 136,
   "metadata": {},
   "outputs": [
    {
     "data": {
      "text/plain": [
       "Doherty, James                            8\n",
       "Videtich, Matt C.                         8\n",
       "Harman Becker Automotive Systems GmbH     8\n",
       "NOU, SEONG TAEG                           8\n",
       "Owens, Kevin W.                           7\n",
       "Washicko, Paul                            7\n",
       "Cambridge Mobile Telematics               7\n",
       "Extreme Telematics Corp.                  7\n",
       "Berkobin, Eric C.                         7\n",
       "McGarry, Daniel C.                        7\n",
       "Wang, Mingheng                            7\n",
       "Ross, Steven J.                           7\n",
       "Reeser, Brad                              7\n",
       "Ampunan, Nathan D.                        7\n",
       "Peak, David F.                            7\n",
       "Zhang, Yilu                               7\n",
       "Veliu, Shpetim                            7\n",
       "Mazzara, Jr., William E.                  7\n",
       "Choi, Jong-Hyuk                           7\n",
       "Ahn, Byung-Koo                            7\n",
       "Banet, Matthew J.                         7\n",
       "United Parcel Service of America, Inc.    7\n",
       "Hering, Carl J.                           7\n",
       "Chrumka, Edward P.                        7\n",
       "Reeser, Brad T.                           6\n",
       "Lowrey, Larkin H.                         6\n",
       "Inbarajan, Krishnaraj                     6\n",
       "HARTFORD FIRE INSURANCE COMPANY           6\n",
       "Italia, William E.                        6\n",
       "Berg, Gregory H.                          6\n",
       "Wettig, Alan                              6\n",
       "Lightner, Bruce Davis                     6\n",
       "Nou, Seong Taeg                           6\n",
       "Odinak, Gilad                             6\n",
       "Berkobin, Eric                            6\n",
       "Bai, Fan                                  6\n",
       "ALLSTATE INSURANCE COMPANY                6\n",
       "Borrego, Diego A.                         6\n",
       "Holt, David A.                            6\n",
       "Van Bosch, James A.                       6\n",
       "Przybylski, Matthew G.                    6\n",
       "Rychlinski, Mark J.                       6\n",
       "Peyravian, Mohammad                       6\n",
       "Chmielewski, Laura R.                     5\n",
       "Hunt, Robert                              5\n",
       "Fuchs, Axel                               5\n",
       "Tengler, Steven C.                        5\n",
       "Johnson, Richard A.                       5\n",
       "Laghrari, Fahd Z.                         5\n",
       "Name: 0, dtype: int64"
      ]
     },
     "execution_count": 136,
     "metadata": {},
     "output_type": "execute_result"
    }
   ],
   "source": [
    "top_apps[51:100]"
   ]
  },
  {
   "cell_type": "code",
   "execution_count": null,
   "metadata": {},
   "outputs": [],
   "source": [
    "#export to csv file\n",
    "applicants_df.to_csv('applicants.csv')"
   ]
  }
 ],
 "metadata": {
  "kernelspec": {
   "display_name": "Python 3",
   "language": "python",
   "name": "python3"
  },
  "language_info": {
   "codemirror_mode": {
    "name": "ipython",
    "version": 3
   },
   "file_extension": ".py",
   "mimetype": "text/x-python",
   "name": "python",
   "nbconvert_exporter": "python",
   "pygments_lexer": "ipython3",
   "version": "3.6.5"
  }
 },
 "nbformat": 4,
 "nbformat_minor": 2
}
