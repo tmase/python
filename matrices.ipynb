{
 "cells": [
  {
   "cell_type": "code",
   "execution_count": 1,
   "metadata": {},
   "outputs": [],
   "source": [
    "import numpy as np\n",
    "from random import randint #creates random integers e.g. randint(1,10)"
   ]
  },
  {
   "cell_type": "code",
   "execution_count": null,
   "metadata": {},
   "outputs": [],
   "source": [
    "#Numpy docs say to use arrays instead of the matrix function\n",
    "#multidimensional array\n",
    "matrix_3x3 = np.array([[1,2,3],[4,5,6],[7,8,9]])\n",
    "vector = np.array([1,1,1])"
   ]
  },
  {
   "cell_type": "code",
   "execution_count": 18,
   "metadata": {},
   "outputs": [],
   "source": [
    "#can do matrix multiplication with matmul\n",
    "#docs: https://docs.scipy.org/doc/numpy/reference/generated/numpy.matmul.html\n",
    "np.matmul(matrix_3x3,vector)"
   ]
  },
  {
   "cell_type": "code",
   "execution_count": 146,
   "metadata": {},
   "outputs": [],
   "source": [
    "#create list of lists first, then convert to array at the end\n",
    "def create_rand_matrix(num_rows,num_cols):\n",
    "    lol = list()\n",
    "    for i in range(num_rows):\n",
    "        row_vals = list()\n",
    "        for j in range(num_cols):\n",
    "            row_vals.append(randint(1,10))\n",
    "        lol.append(row_vals)\n",
    "    matrix = np.array(lol)\n",
    "    return matrix"
   ]
  },
  {
   "cell_type": "code",
   "execution_count": 152,
   "metadata": {},
   "outputs": [
    {
     "data": {
      "text/plain": [
       "array([[ 4,  1,  7,  1,  2,  4],\n",
       "       [ 8,  3,  2,  2,  7, 10]])"
      ]
     },
     "execution_count": 152,
     "metadata": {},
     "output_type": "execute_result"
    }
   ],
   "source": [
    "create_rand_matrix(2,6)"
   ]
  },
  {
   "cell_type": "code",
   "execution_count": 158,
   "metadata": {},
   "outputs": [
    {
     "name": "stdout",
     "output_type": "stream",
     "text": [
      "[[9 9]\n",
      " [2 9]\n",
      " [1 5]]\n",
      "[[7]\n",
      " [9]]\n"
     ]
    }
   ],
   "source": [
    "matrix1 = create_rand_matrix(3,2)\n",
    "matrix2 = create_rand_matrix(2,1)\n",
    "print(matrix1)\n",
    "print(matrix2)"
   ]
  },
  {
   "cell_type": "code",
   "execution_count": 163,
   "metadata": {},
   "outputs": [
    {
     "name": "stdout",
     "output_type": "stream",
     "text": [
      "144\n",
      "95\n",
      "52\n"
     ]
    }
   ],
   "source": [
    "#by hand\n",
    "print((9*7) + (9*9))\n",
    "print((7*2) + (9*9))\n",
    "print((7*1) + (9*5))"
   ]
  },
  {
   "cell_type": "code",
   "execution_count": 164,
   "metadata": {},
   "outputs": [
    {
     "data": {
      "text/plain": [
       "array([[144],\n",
       "       [ 95],\n",
       "       [ 52]])"
      ]
     },
     "execution_count": 164,
     "metadata": {},
     "output_type": "execute_result"
    }
   ],
   "source": [
    "np.matmul(matrix1,matrix2)"
   ]
  },
  {
   "cell_type": "code",
   "execution_count": 173,
   "metadata": {},
   "outputs": [
    {
     "name": "stdout",
     "output_type": "stream",
     "text": [
      "[[1 3 2]\n",
      " [4 0 1]]\n",
      "[[1 3]\n",
      " [0 1]\n",
      " [5 2]]\n"
     ]
    }
   ],
   "source": [
    "course1 = np.array([[1,3,2],[4,0,1]])\n",
    "course2 = np.array([[1,3],[0,1],[5,2]])\n",
    "print(course1)\n",
    "print(course2)"
   ]
  },
  {
   "cell_type": "code",
   "execution_count": 174,
   "metadata": {},
   "outputs": [
    {
     "data": {
      "text/plain": [
       "array([[11, 10],\n",
       "       [ 9, 14]])"
      ]
     },
     "execution_count": 174,
     "metadata": {},
     "output_type": "execute_result"
    }
   ],
   "source": [
    "np.matmul(course1,course2)"
   ]
  },
  {
   "cell_type": "code",
   "execution_count": 175,
   "metadata": {},
   "outputs": [
    {
     "name": "stdout",
     "output_type": "stream",
     "text": [
      "[[1 3]\n",
      " [2 5]]\n",
      "[[0 1]\n",
      " [3 2]]\n"
     ]
    }
   ],
   "source": [
    "course3 = np.array([[1,3],[2,5]])\n",
    "course4 = np.array([[0,1],[3,2]])\n",
    "print(course3)\n",
    "print(course4)"
   ]
  },
  {
   "cell_type": "code",
   "execution_count": 176,
   "metadata": {},
   "outputs": [
    {
     "data": {
      "text/plain": [
       "array([[ 9,  7],\n",
       "       [15, 12]])"
      ]
     },
     "execution_count": 176,
     "metadata": {},
     "output_type": "execute_result"
    }
   ],
   "source": [
    "np.matmul(course3,course4)"
   ]
  },
  {
   "cell_type": "code",
   "execution_count": null,
   "metadata": {},
   "outputs": [],
   "source": [
    "#Create empty arrays\n",
    "np.zeros(shape=(3,1))\n",
    "np.empty(shape=(4,3))"
   ]
  }
 ],
 "metadata": {
  "kernelspec": {
   "display_name": "Python 3",
   "language": "python",
   "name": "python3"
  },
  "language_info": {
   "codemirror_mode": {
    "name": "ipython",
    "version": 3
   },
   "file_extension": ".py",
   "mimetype": "text/x-python",
   "name": "python",
   "nbconvert_exporter": "python",
   "pygments_lexer": "ipython3",
   "version": "3.7.4"
  }
 },
 "nbformat": 4,
 "nbformat_minor": 2
}
