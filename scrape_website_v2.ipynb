{
 "cells": [
  {
   "cell_type": "markdown",
   "metadata": {},
   "source": [
    "#### References:  \n",
    "https://medium.freecodecamp.org/how-to-scrape-websites-with-python-and-beautifulsoup-5946935d93fe  \n",
    "https://stackoverflow.com/questions/30565404/remove-all-style-scripts-and-html-tags-from-an-html-page"
   ]
  },
  {
   "cell_type": "markdown",
   "metadata": {},
   "source": [
    "### Script for scraping company website and converting to plain text for NLP"
   ]
  },
  {
   "cell_type": "code",
   "execution_count": 14,
   "metadata": {},
   "outputs": [],
   "source": [
    "import pandas as pd\n",
    "from bs4 import BeautifulSoup\n",
    "import urllib.request"
   ]
  },
  {
   "cell_type": "code",
   "execution_count": 42,
   "metadata": {},
   "outputs": [],
   "source": [
    "def parse_html(url):\n",
    "    try:\n",
    "        resp = urllib.request.urlopen(url)\n",
    "        soup = BeautifulSoup(resp,'html.parser')\n",
    "        if soup:\n",
    "            return soup\n",
    "        else:\n",
    "            return 0\n",
    "    except (Exception) as error:\n",
    "        print(error)"
   ]
  },
  {
   "cell_type": "code",
   "execution_count": 82,
   "metadata": {},
   "outputs": [],
   "source": [
    "#remove all the script, style tags and other html cruft\n",
    "def clean_html(soup):\n",
    "    for s in soup(['script','style']):\n",
    "        s.decompose()\n",
    "    return ' '.join(soup.stripped_strings)"
   ]
  },
  {
   "cell_type": "code",
   "execution_count": 35,
   "metadata": {},
   "outputs": [],
   "source": [
    "#read in csv and create url list to loop through\n",
    "cos = pd.read_csv('companies.csv',names=['id','url'])\n",
    "url_list = cos['url'].tolist()"
   ]
  },
  {
   "cell_type": "code",
   "execution_count": 36,
   "metadata": {},
   "outputs": [
    {
     "name": "stdout",
     "output_type": "stream",
     "text": [
      "['brightback.com', 'sightmachine.com', 'harness.io', 'sherlock.bio', 'www.alt36.com', 'www.absencesoft.com', 'www.censinet.com', 'getblueshift.com', 'zageno.com', '-']\n"
     ]
    }
   ],
   "source": [
    "print(url_list[:10])"
   ]
  },
  {
   "cell_type": "code",
   "execution_count": 43,
   "metadata": {},
   "outputs": [
    {
     "name": "stdout",
     "output_type": "stream",
     "text": [
      "unknown url type: 'brightback.com'\n",
      "None\n",
      "unknown url type: 'sightmachine.com'\n",
      "None\n",
      "unknown url type: 'harness.io'\n",
      "None\n",
      "unknown url type: 'sherlock.bio'\n",
      "None\n",
      "unknown url type: 'www.alt36.com'\n",
      "None\n",
      "unknown url type: 'www.absencesoft.com'\n",
      "None\n",
      "unknown url type: 'www.censinet.com'\n",
      "None\n",
      "unknown url type: 'getblueshift.com'\n",
      "None\n",
      "unknown url type: 'zageno.com'\n",
      "None\n",
      "unknown url type: '-'\n",
      "None\n"
     ]
    }
   ],
   "source": [
    "for i in range(10):\n",
    "    print(parse_html(url_list[i]))"
   ]
  },
  {
   "cell_type": "code",
   "execution_count": 85,
   "metadata": {},
   "outputs": [
    {
     "name": "stdout",
     "output_type": "stream",
     "text": [
      "http://www.brightback.com\n",
      "http://www.sightmachine.com\n",
      "http://www.harness.io\n",
      "http://www.sherlock.bio\n",
      "http://www.alt36.com\n",
      "http://www.absencesoft.com\n",
      "http://www.censinet.com\n",
      "http://www.getblueshift.com\n",
      "http://www.zageno.com\n",
      "http://www.-\n"
     ]
    }
   ],
   "source": [
    "for i in range(10):\n",
    "    print(fix_url(url_list[i]))"
   ]
  },
  {
   "cell_type": "code",
   "execution_count": 84,
   "metadata": {},
   "outputs": [
    {
     "name": "stdout",
     "output_type": "stream",
     "text": [
      "Brightback | Customer Retention & Churn Management Software |… Product Customers Blog Sign in Demo Product Customers Blog Company Security Careers Press Contact Events Integrations Help Center | Terms of use | Privacy policy Demo Sign in Grow revenue instantly by automating your customer retention Finally, there's an easier way to identify, engage and save customers automatically. Sign up Get an early access invitation to start saving customers An invitation has been sent! Easily standardize and automate your cancel process Use a systematic approach to prevent and measure churn at scale while integrating your customer engagement apps. Read how Copper gained a 96 % lift while testing two cancel experiences. Read success story Win back your customers Tailor unique offboarding experiences that are on-brand and highly targeted based on key customer segments. Learn more The best thing about Brightback is it allows our team to test, measure, and act, on why people leave or don’t convert. For example, we were able to test two cancel experiences and found a 96% lift using the more simplified experience. NIRAJ SHAH VP, Customer Success at Copper See insights and benchmarks, minus the spreadsheets Quickly pinpoint the reasons why customers considering leaving or cancel all together – then take action. Learn more We play well with your stack Brightback integrates with your existing tools to personalize customer experiences while keeping your data in sync. Read success story How Brightback works Customer segmentation We accurately identify and classify your at-risk customers Dynamic experiences Customers see offers tailored to their intent, usage and billing signals Actionable data Get cancel, save and subscription insights in Brightback, Slack and your other favorite tools We accurately identify and classify your at-risk customers Customers see offers tailored to their intent, usage and billing signals Get cancel, save and subscription insights in Brightback, Slack and your other favorite tools Fact: Your customers are canceling. We've got your back. Sign up \"Brightback allows us to pinpoint the 'why' behind the cancel experience.\" —  Daniel Chalef, SVP Data Science at Sparkpost Brightback Customers Company Careers Contact Product Overview Integrations Security Help Center Resources Blog Press Events Terms of use Privacy policy Be Right Back—the monthly newsletter Subscribe to get retention real talk in your inbox from the Brightback team. Subscribe Thanks for subscribing! Terms of use Privacy policy © 2019 Brightback. All Rights Reserved.\n",
      "HTTP Error 403: Forbidden\n",
      "Harness | Continuous Delivery Simplified — CI/CD for Devops Product Overview Secret Sauce Smart Automation Continuous Verification Continuous Security Why Harness Partner Integrations Pricing Customers Company Blog Get Started Contact Sales Login Harness Continuous Delivery Simplified — CI/CD for Devops Get Ship Done. Continuous Delivery-as-a-Service Start your free trial with... Or Sign Up With Email Try Harness * First Name: * Last Name: * Email: * Company Name: * Job Title: * Password: Get Started By signing up, you agree to our Privacy Policy . Need to join an existing group? Ask your company account administrator to send you an invite. Harness is the industry's first Continuous Delivery-as-a-Service platform that automates the entire CD process, uses machine learning to protect you when deployments fail, and equips you with enterprise-grade security every step of the way. Continuous Delivery has never been so simple. 24/7 Service Guard Unified Operational Visibility That Protects Developers Read blog Watch Video \"Harness gives us the confidence to do multiple deployments a day.\" Ed Rose, Build.com's Director of Software Development Watch Video Customer Stories \"If we had built CD in-house, it never would have approached the quality that Harness gives us.\" Scott Bassin, Ibotta's Director of Engineering Watch Video Customer Stories \"Using Harness has reduced engineering resources across the board--up to 80%.\" Mark Sost, Soulcycle's Sr. Director of Software Engineering Watch Video Customer Stories \"Harness has reduced our deployment times by 10x\" Jon Stuart, Jobvite's VP of DevOps, IT, & Security Watch Video Customer Stories \"Harness is the tool you didn't know you needed until you have it--then you can't live without it.\" Nick Wilson, GoSpotCheck's TechOps Lead Watch Video Customer Stories Latest Blog Posts Helping Enterprises Gain an 'Easy Button' for Continuous Delivery: Announcing Harness Series B Financing By Jyoti Bansal / April 23rd, 2019 Today is a big milestone day for us at Harness. [...] Harness Continuous Delivery For AWS Cloud-Native Applications By Steve Burton / March 27th, 2019 Today we announced that Harness is now part of the [...] Harness uses Kubernetes for On-Premises Deployment By Rushabh Shah / March 5th, 2019 Our goal at Harness is to enable our customers to [...] Home Depot QuoteCenter Solves Continuous Delivery For Microservices With Harness By Steve Burton / March 1st, 2019 About Home Depot QuoteCenter QuoteCenter is changing the way colleagues [...] Captain Canary Partners Careers Contact Copyright © 2019 Harness. Inc. All Rights Reserved. Terms of use and Privacy.\n"
     ]
    }
   ],
   "source": [
    "for i in range(3):\n",
    "    #fix ill-formed urls\n",
    "    url = fix_url(url_list[i])\n",
    "    soup = parse_html(url)\n",
    "    if soup:\n",
    "        site_text = clean_html(soup)\n",
    "        print(site_text)"
   ]
  },
  {
   "cell_type": "code",
   "execution_count": 46,
   "metadata": {},
   "outputs": [],
   "source": [
    "def fix_url(url):\n",
    "    if url[:4] == 'http':\n",
    "        pass\n",
    "    elif url[:4] == 'www.':\n",
    "        url = 'http://' + url\n",
    "    else:\n",
    "        url = 'http://www.' + url\n",
    "    return url"
   ]
  }
 ],
 "metadata": {
  "kernelspec": {
   "display_name": "Python 3",
   "language": "python",
   "name": "python3"
  },
  "language_info": {
   "codemirror_mode": {
    "name": "ipython",
    "version": 3
   },
   "file_extension": ".py",
   "mimetype": "text/x-python",
   "name": "python",
   "nbconvert_exporter": "python",
   "pygments_lexer": "ipython3",
   "version": "3.7.3"
  }
 },
 "nbformat": 4,
 "nbformat_minor": 2
}
