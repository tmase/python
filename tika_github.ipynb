{
 "cells": [
  {
   "cell_type": "code",
   "execution_count": 1,
   "metadata": {},
   "outputs": [],
   "source": [
    "#First step was to install the Tika package. I originally encountered a PackagesNotFoundError, which I was able to fix \n",
    "#by adding a new channel called conda-forge. The command for that is:\n",
    "#conda config --append channels conda-forge"
   ]
  },
  {
   "cell_type": "code",
   "execution_count": 2,
   "metadata": {},
   "outputs": [],
   "source": [
    "import tika"
   ]
  },
  {
   "cell_type": "markdown",
   "metadata": {},
   "source": [
    "Reference\n",
    "sample pdf: https://platform.mi.spglobal.com/web/client?auth=inherit#news/docviewer?id=49103622\n",
    "tika tutorial: https://cbrownley.wordpress.com/2016/06/26/parsing-pdfs-in-python-with-tika/\n"
   ]
  },
  {
   "cell_type": "code",
   "execution_count": 1,
   "metadata": {},
   "outputs": [],
   "source": [
    "from tika import parser"
   ]
  },
  {
   "cell_type": "code",
   "execution_count": 3,
   "metadata": {},
   "outputs": [],
   "source": [
    "parsedPDF = parser.from_file(\"metromile.pdf\")"
   ]
  },
  {
   "cell_type": "code",
   "execution_count": 6,
   "metadata": {},
   "outputs": [
    {
     "data": {
      "text/plain": [
       "dict_keys(['status', 'content', 'metadata'])"
      ]
     },
     "execution_count": 6,
     "metadata": {},
     "output_type": "execute_result"
    }
   ],
   "source": [
    "parsedPDF.keys()"
   ]
  },
  {
   "cell_type": "code",
   "execution_count": 7,
   "metadata": {},
   "outputs": [
    {
     "data": {
      "text/plain": [
       "{'Content-Type': 'application/pdf',\n",
       " 'Creation-Date': '2018-12-26T06:52:48Z',\n",
       " 'Last-Modified': '2018-12-26T08:30:27Z',\n",
       " 'Last-Save-Date': '2018-12-26T08:30:27Z',\n",
       " 'X-Parsed-By': ['org.apache.tika.parser.DefaultParser',\n",
       "  'org.apache.tika.parser.pdf.PDFParser'],\n",
       " 'X-TIKA:parse_time_millis': '94',\n",
       " 'access_permission:assemble_document': 'true',\n",
       " 'access_permission:can_modify': 'true',\n",
       " 'access_permission:can_print': 'true',\n",
       " 'access_permission:can_print_degraded': 'true',\n",
       " 'access_permission:extract_content': 'true',\n",
       " 'access_permission:extract_for_accessibility': 'true',\n",
       " 'access_permission:fill_in_form': 'true',\n",
       " 'access_permission:modify_annotations': 'true',\n",
       " 'created': '2018-12-26T06:52:48Z',\n",
       " 'date': '2018-12-26T08:30:27Z',\n",
       " 'dc:format': 'application/pdf; version=1.4',\n",
       " 'dcterms:created': '2018-12-26T06:52:48Z',\n",
       " 'dcterms:modified': '2018-12-26T08:30:27Z',\n",
       " 'meta:creation-date': '2018-12-26T06:52:48Z',\n",
       " 'meta:save-date': '2018-12-26T08:30:27Z',\n",
       " 'modified': '2018-12-26T08:30:27Z',\n",
       " 'pdf:PDFVersion': '1.4',\n",
       " 'pdf:docinfo:created': '2018-12-26T06:52:48Z',\n",
       " 'pdf:docinfo:modified': '2018-12-26T08:30:27Z',\n",
       " 'pdf:docinfo:producer': 'iText® 5.5.1-SNAPSHOT ©2000-2013 iText Group NV (National Association of Insurance Commissioners; licensed version); modified using iTextSharp™ 5.5.5 ©2000-2014 iText Group NV (AGPL-version)',\n",
       " 'pdf:encrypted': 'false',\n",
       " 'producer': 'iText® 5.5.1-SNAPSHOT ©2000-2013 iText Group NV (National Association of Insurance Commissioners; licensed version); modified using iTextSharp™ 5.5.5 ©2000-2014 iText Group NV (AGPL-version)',\n",
       " 'resourceName': 'metromile.pdf',\n",
       " 'xmpTPg:NPages': '9'}"
      ]
     },
     "execution_count": 7,
     "metadata": {},
     "output_type": "execute_result"
    }
   ],
   "source": [
    "parsedPDF[\"metadata\"]"
   ]
  },
  {
   "cell_type": "code",
   "execution_count": 8,
   "metadata": {},
   "outputs": [
    {
     "data": {
      "text/plain": [
       "'\\n\\n\\n\\n\\n\\n\\n\\n\\n\\n\\n\\n\\n\\n\\n\\n\\n\\n\\n\\n\\n\\n\\n\\n\\n\\n\\n\\n\\n\\n\\n\\n\\n\\n\\nTable of Contents \\n\\nUser Usage Agreement\\nAttachments\\nUsage Agreement Usage Agreement.pdf\\n\\nSupporting Document\\nAttachments\\n\\n(ex. Supporting Document Name      Attachment Name)\\n\\nAuthorization to File (PC) Oct 17 2018 RE Perr & Knight.pdf\\n\\nFiling Memorandum Filing Memorandum_PA_Form_eff.pdf\\n\\nSERFF Tracking #: PERR-131765816 State Tracking #: Company Tracking #: PA-FORM-1218-1\\n\\nState: Pennsylvania Filing Company: Metromile Insurance Company\\n\\nTOI/Sub-TOI: 19.0 Personal Auto/19.0001 Private Passenger Auto (PPA)\\n\\nProduct Name: Personal Auto\\n\\nProject Name/Number: Effective Date Change/PA-FORM-1218-1\\n\\nPDF Pipeline for SERFF Tracking Number PERR-131765816 Generated 12/26/2018 12:52 AM\\n\\n\\n\\nFiling at a Glance \\nCompany: Metromile Insurance Company\\n\\nProduct Name: Personal Auto\\n\\nState: Pennsylvania\\n\\nTOI: 19.0 Personal Auto\\n\\nSub-TOI: 19.0001 Private Passenger Auto (PPA)\\n\\nFiling Type: Form\\n\\nDate Submitted: 12/21/2018\\n\\nSERFF Tr Num: PERR-131765816\\n\\nSERFF Status: Closed-Approved\\n\\nState Tr Num:\\n\\nState Status: Approved\\n\\nCo Tr Num: PA-FORM-1218-1\\n\\nEffective Date\\nRequested (New):\\n\\n01/16/2019\\n\\nEffective Date\\nRequested (Renewal):\\n\\n03/24/2019\\n\\nAuthor(s): Neresa Torres, Paula Rossman, Mollie Mason, Shary Agharaad\\n\\nReviewer(s): Debra Spertzel (primary), Debra Breach\\n\\nDisposition Date: 12/24/2018\\n\\nDisposition Status: Approved\\n\\nEffective Date (New): 01/09/2019\\n\\nEffective Date (Renewal): 03/17/2019\\n\\nSERFF Tracking #: PERR-131765816 State Tracking #: Company Tracking #: PA-FORM-1218-1\\n\\nState: Pennsylvania Filing Company: Metromile Insurance Company\\n\\nTOI/Sub-TOI: 19.0 Personal Auto/19.0001 Private Passenger Auto (PPA)\\n\\nProduct Name: Personal Auto\\n\\nProject Name/Number: Effective Date Change/PA-FORM-1218-1\\n\\nPDF Pipeline for SERFF Tracking Number PERR-131765816 Generated 12/26/2018 12:52 AM\\n\\n\\n\\nGeneral Information \\n\\n \\n\\nCompany and Contact \\n\\nFiling Fees \\n\\nProject Name: Effective Date Change Status of Filing in Domicile:\\n\\nProject Number: PA-FORM-1218-1 Domicile Status Comments:\\n\\nReference Organization: Reference Number:\\n\\nReference Title: Advisory Org. Circular:\\n\\nFiling Status Changed: 12/24/2018\\n\\nState Status Changed: 12/24/2018 Deemer Date:\\n\\nCreated By: Mollie Mason Submitted By: Addy Anggelico\\n\\nCorresponding Filing Tracking Number: MIC-PPA-PA-1804R\\n\\nFiling Description:\\n\\nThis filing requests to update the effective dates of the approved forms Application (PA-AA-0418), Auto Policy (PA-AC-0418)\\nand Declaration Page (PA-AD-0618) from filing SERFF PERR-131694461.  The approved effective dates in this filing were\\nnew business January 9, 2019 and a renewal business of March 17, 2019.\\n\\nWe propose a new business effective date of January 16, 2019 and a renewal business effective date of March 24, 2019.\\n\\nEnclosed is authorization for Perr&Knight to submit this filing on behalf of the Company.  All correspondence related to this\\nfiling should be directed to Perr&Knight. If there are any requests for additional information related to items prepared by the\\nCompany, we will forward the request immediately to the Company contact. The Company’s response will be submitted to your\\nattention as soon as we receive it.\\n\\nFiling Contact Information\\nMollie Mason, State Filings Analyst mmason@perrknight.com\\n\\n1200 N. Federal Hwy, # 309\\n\\nBoca Raton, FL 33432\\n\\n561-922-7033 [Phone]\\n\\nFiling Company Information\\n(This filing was made by a third party - perrandknightactuaryconsultants)\\n\\nMetromile Insurance Company\\n\\n690 Folsom St, Ste 200,\\n\\nSan Francisco, CA  94107\\n\\n(888) 244-1702 ext. [Phone]\\n\\nCoCode: 16187\\n\\nGroup Code:\\n\\nGroup Name:\\n\\nFEIN Number: 04-2482364\\n\\nState of Domicile: Delaware\\n\\nCompany Type:\\n\\nState ID Number:\\n\\nFee Required? Yes\\n\\nFee Amount: $150.00\\n\\nRetaliatory? Yes\\n\\nFee Explanation: Form Filing (DE fee)\\n\\nPer Company: Yes\\n\\nCompany Amount Date Processed Transaction #\\nMetromile Insurance Company $150.00 12/21/2018 153111286\\n\\nSERFF Tracking #: PERR-131765816 State Tracking #: Company Tracking #: PA-FORM-1218-1\\n\\nState: Pennsylvania Filing Company: Metromile Insurance Company\\n\\nTOI/Sub-TOI: 19.0 Personal Auto/19.0001 Private Passenger Auto (PPA)\\n\\nProduct Name: Personal Auto\\n\\nProject Name/Number: Effective Date Change/PA-FORM-1218-1\\n\\nPDF Pipeline for SERFF Tracking Number PERR-131765816 Generated 12/26/2018 12:52 AM\\n\\n\\n\\nState Specific \\n*Filing Fee Amount: $150\\n*Date Filing Fee Mailed: EFT\\n*Filing Fee Check Number: EFT\\n*Filing Fee Check Date: EFT\\n*NAIC Number: 16187\\n\\nSERFF Tracking #: PERR-131765816 State Tracking #: Company Tracking #: PA-FORM-1218-1\\n\\nState: Pennsylvania Filing Company: Metromile Insurance Company\\n\\nTOI/Sub-TOI: 19.0 Personal Auto/19.0001 Private Passenger Auto (PPA)\\n\\nProduct Name: Personal Auto\\n\\nProject Name/Number: Effective Date Change/PA-FORM-1218-1\\n\\nPDF Pipeline for SERFF Tracking Number PERR-131765816 Generated 12/26/2018 12:52 AM\\n\\n\\n\\nCorrespondence Summary \\nDispositions\\nStatus Created By Created On Date Submitted\\nApproved Debra Spertzel 12/24/2018 12/24/2018\\n\\nSERFF Tracking #: PERR-131765816 State Tracking #: Company Tracking #: PA-FORM-1218-1\\n\\nState: Pennsylvania Filing Company: Metromile Insurance Company\\n\\nTOI/Sub-TOI: 19.0 Personal Auto/19.0001 Private Passenger Auto (PPA)\\n\\nProduct Name: Personal Auto\\n\\nProject Name/Number: Effective Date Change/PA-FORM-1218-1\\n\\nPDF Pipeline for SERFF Tracking Number PERR-131765816 Generated 12/26/2018 12:52 AM\\n\\n\\n\\nDisposition \\n\\nDisposition Date: 12/24/2018\\n\\nEffective Date (New): 01/09/2019\\n\\nEffective Date (Renewal): 03/17/2019\\n\\nStatus: Approved\\n\\nComment:\\n\\nRate data does NOT apply to filing.\\n\\nSchedule Schedule Item Schedule Item Status Public Access\\nSupporting Document Authorization to File (PC) Yes\\nSupporting Document Filing Memorandum Yes\\n\\nSERFF Tracking #: PERR-131765816 State Tracking #: Company Tracking #: PA-FORM-1218-1\\n\\nState: Pennsylvania Filing Company: Metromile Insurance Company\\n\\nTOI/Sub-TOI: 19.0 Personal Auto/19.0001 Private Passenger Auto (PPA)\\n\\nProduct Name: Personal Auto\\n\\nProject Name/Number: Effective Date Change/PA-FORM-1218-1\\n\\nPDF Pipeline for SERFF Tracking Number PERR-131765816 Generated 12/26/2018 12:52 AM\\n\\n\\n\\nSupporting Document Schedules \\nSatisfied - Item: Authorization to File (PC)\\nComments:\\nAttachment(s): Oct 17 2018 RE Perr & Knight.pdf\\nItem Status:\\nStatus Date:\\n\\nSatisfied - Item: Filing Memorandum\\nComments:\\nAttachment(s): Filing Memorandum_PA_Form_eff.pdf\\nItem Status:\\nStatus Date:\\n\\nSERFF Tracking #: PERR-131765816 State Tracking #: Company Tracking #: PA-FORM-1218-1\\n\\nState: Pennsylvania Filing Company: Metromile Insurance Company\\n\\nTOI/Sub-TOI: 19.0 Personal Auto/19.0001 Private Passenger Auto (PPA)\\n\\nProduct Name: Personal Auto\\n\\nProject Name/Number: Effective Date Change/PA-FORM-1218-1\\n\\nPDF Pipeline for SERFF Tracking Number PERR-131765816 Generated 12/26/2018 12:52 AM\\n\\n\\n\\n\\n\\n \\n690 Folsom Street, Suite 200 \\n\\nSan Francisco, CA 94107 \\n\\n \\n\\nFiling Memorandum PA-FORM \\n \\nThis filing requests to update the effective dates of the approved forms Application (PA-\\nAA-0418), Auto Policy (PA-AC-0418) and Declaration Page (PA-AD-0618) from filing \\nSERFF PERR-131694461.  The approved effective dates in this filing were new business \\nJanuary 9, 2019 and a renewal business of March 17, 2019.   \\n \\nWe propose a new business effective date of January 16, 2019 and a renewal business \\neffective date of March 25, 2019.   \\n \\n\\n\\n\\tPERR-131765816\\n\\tTable of Contents\\n\\tFiling at a Glance\\n\\tGeneral Information\\n\\tFiling Description\\n\\tCompany and Contact\\n\\tFiling Fees\\n\\tState Specific\\n\\n\\tCorrespondence Summary\\n\\tDisposition\\n\\tSupporting Document Schedules\\n\\n\\n'"
      ]
     },
     "execution_count": 8,
     "metadata": {},
     "output_type": "execute_result"
    }
   ],
   "source": [
    "parsedPDF[\"content\"]"
   ]
  },
  {
   "cell_type": "code",
   "execution_count": null,
   "metadata": {},
   "outputs": [],
   "source": []
  }
 ],
 "metadata": {
  "kernelspec": {
   "display_name": "Python 3",
   "language": "python",
   "name": "python3"
  },
  "language_info": {
   "codemirror_mode": {
    "name": "ipython",
    "version": 3
   },
   "file_extension": ".py",
   "mimetype": "text/x-python",
   "name": "python",
   "nbconvert_exporter": "python",
   "pygments_lexer": "ipython3",
   "version": "3.6.4"
  }
 },
 "nbformat": 4,
 "nbformat_minor": 2
}
