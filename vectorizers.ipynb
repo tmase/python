{
 "cells": [
  {
   "cell_type": "markdown",
   "metadata": {},
   "source": [
    "https://campus.datacamp.com/courses/natural-language-processing-fundamentals-in-python/building-a-fake-news-classifier?ex=5"
   ]
  },
  {
   "cell_type": "code",
   "execution_count": 18,
   "metadata": {},
   "outputs": [],
   "source": [
    "#Import the necessary modules\n",
    "import pandas as pd\n",
    "from sklearn.feature_extraction.text import CountVectorizer\n",
    "from sklearn.model_selection import train_test_split\n",
    "from sklearn.datasets import load_files  "
   ]
  },
  {
   "cell_type": "code",
   "execution_count": 19,
   "metadata": {},
   "outputs": [],
   "source": [
    "movie_data = load_files(r\"C:\\txt_sentoken\")\n",
    "X, y = movie_data.data, movie_data.target"
   ]
  },
  {
   "cell_type": "code",
   "execution_count": 20,
   "metadata": {},
   "outputs": [
    {
     "name": "stdout",
     "output_type": "stream",
     "text": [
      "['00', '000', '0009f', '007', '03', '04', '05', '05425', '10', '100']\n"
     ]
    }
   ],
   "source": [
    "# Create training and test sets\n",
    "X_train, X_test, y_train, y_test = train_test_split(X, y, test_size=0.33, random_state=53) \n",
    "\n",
    "# Initialize a CountVectorizer object: count_vectorizer\n",
    "count_vectorizer = CountVectorizer(stop_words=\"english\")\n",
    "\n",
    "# Transform the training data using only the 'text' column values: count_train \n",
    "count_train = count_vectorizer.fit_transform(X_train)\n",
    "\n",
    "# Transform the test data using only the 'text' column values: count_test \n",
    "count_test = count_vectorizer.transform(X_test)\n",
    "\n",
    "# Print the first 10 features of the count_vectorizer\n",
    "print(count_vectorizer.get_feature_names()[:10])"
   ]
  },
  {
   "cell_type": "code",
   "execution_count": 23,
   "metadata": {},
   "outputs": [
    {
     "name": "stdout",
     "output_type": "stream",
     "text": [
      "['00', '000', '0009f', '007', '03', '04', '05', '05425', '10', '100']\n",
      "  (0, 26274)\t0.01919478976465854\n",
      "  (0, 7553)\t0.04695083061445073\n",
      "  (0, 186)\t0.0357812245316206\n",
      "  (0, 285)\t0.04116158299320493\n",
      "  (0, 12517)\t0.06771916365645315\n",
      "  (0, 19496)\t0.06771916365645315\n",
      "  (0, 5388)\t0.05641977731387568\n",
      "  (0, 20659)\t0.06771916365645315\n",
      "  (0, 20393)\t0.05781015053701714\n",
      "  (0, 29872)\t0.06069971973884306\n",
      "  (0, 11784)\t0.06637291047978482\n",
      "  (0, 21452)\t0.03734759499613007\n",
      "  (0, 23879)\t0.03411500190595826\n",
      "  (0, 12658)\t0.013723926145362407\n",
      "  (0, 26217)\t0.04790113741758111\n",
      "  (0, 27761)\t0.030067975289399806\n",
      "  (0, 22048)\t0.023083465344589292\n",
      "  (0, 21975)\t0.05781015053701714\n",
      "  (0, 10832)\t0.04790113741758111\n",
      "  (0, 4717)\t0.10640544364006567\n",
      "  (0, 23288)\t0.03456050344058903\n",
      "  (0, 18791)\t0.04530636812585292\n",
      "  (0, 30370)\t0.037664103697129366\n",
      "  (0, 10137)\t0.05641977731387568\n",
      "  (0, 33091)\t0.01826737264893649\n",
      "  :\t:\n",
      "  (4, 7353)\t0.050624691142996246\n",
      "  (4, 19853)\t0.026281418402448516\n",
      "  (4, 23666)\t0.05233843977568406\n",
      "  (4, 28394)\t0.03278868935500779\n",
      "  (4, 12036)\t0.05766182925272683\n",
      "  (4, 32673)\t0.026346229146555204\n",
      "  (4, 22566)\t0.040787083857034036\n",
      "  (4, 13174)\t0.02514377443925551\n",
      "  (4, 25605)\t0.02992988002499263\n",
      "  (4, 7055)\t0.03796294739674342\n",
      "  (4, 17614)\t0.0308085546796776\n",
      "  (4, 23039)\t0.04701505029864129\n",
      "  (4, 19870)\t0.03220878926779342\n",
      "  (4, 19648)\t0.054547846031923204\n",
      "  (4, 29817)\t0.04218731844514985\n",
      "  (4, 24768)\t0.03249326725660982\n",
      "  (4, 29816)\t0.03857767760079489\n",
      "  (4, 786)\t0.04218731844514985\n",
      "  (4, 31424)\t0.03325428812375212\n",
      "  (4, 28312)\t0.031044881867512975\n",
      "  (4, 5752)\t0.041226062052854194\n",
      "  (4, 24704)\t0.04218731844514985\n",
      "  (4, 6353)\t0.03325428812375212\n",
      "  (4, 18418)\t0.04218731844514985\n",
      "  (4, 1197)\t0.04701505029864129\n"
     ]
    }
   ],
   "source": [
    "# Import TfidfVectorizer\n",
    "from sklearn.feature_extraction.text import TfidfVectorizer\n",
    "\n",
    "# Initialize a TfidfVectorizer object: tfidf_vectorizer\n",
    "tfidf_vectorizer = TfidfVectorizer(stop_words='english',max_df=0.7)\n",
    "\n",
    "# Transform the training data: tfidf_train \n",
    "tfidf_train = tfidf_vectorizer.fit_transform(X_train)\n",
    "\n",
    "# Transform the test data: tfidf_test \n",
    "tfidf_test = tfidf_vectorizer.transform(X_test)\n",
    "\n",
    "# Print the first 10 features\n",
    "print(tfidf_vectorizer.get_feature_names()[:10])\n",
    "\n",
    "# Print the first 5 vectors of the tfidf training data\n",
    "print(tfidf_train[:5])"
   ]
  },
  {
   "cell_type": "code",
   "execution_count": 28,
   "metadata": {},
   "outputs": [
    {
     "name": "stdout",
     "output_type": "stream",
     "text": [
      "{'movie', 'film', 'like'}\n"
     ]
    }
   ],
   "source": [
    "# Create the CountVectorizer DataFrame: count_df\n",
    "count_df = pd.DataFrame(count_train.A, columns=count_vectorizer.get_feature_names())\n",
    "\n",
    "# Create the TfidfVectorizer DataFrame: tfidf_df\n",
    "tfidf_df = pd.DataFrame(tfidf_train.A, columns=tfidf_vectorizer.get_feature_names())\n",
    "\n",
    "# Calculate the difference in columns: difference\n",
    "difference = set(count_df.columns) - set(tfidf_df.columns)\n",
    "print(difference)"
   ]
  },
  {
   "cell_type": "code",
   "execution_count": 29,
   "metadata": {},
   "outputs": [
    {
     "name": "stdout",
     "output_type": "stream",
     "text": [
      "False\n"
     ]
    }
   ],
   "source": [
    "# Check whether the DataFrames are equal\n",
    "print(count_df.equals(tfidf_df))"
   ]
  },
  {
   "cell_type": "code",
   "execution_count": 26,
   "metadata": {},
   "outputs": [
    {
     "name": "stdout",
     "output_type": "stream",
     "text": [
      "    00  000  0009f  007   03   04   05  05425        10       100  ...  zorro  \\\n",
      "0  0.0  0.0    0.0  0.0  0.0  0.0  0.0    0.0  0.030279  0.037042  ...    0.0   \n",
      "1  0.0  0.0    0.0  0.0  0.0  0.0  0.0    0.0  0.000000  0.000000  ...    0.0   \n",
      "2  0.0  0.0    0.0  0.0  0.0  0.0  0.0    0.0  0.000000  0.000000  ...    0.0   \n",
      "3  0.0  0.0    0.0  0.0  0.0  0.0  0.0    0.0  0.000000  0.000000  ...    0.0   \n",
      "4  0.0  0.0    0.0  0.0  0.0  0.0  0.0    0.0  0.000000  0.000000  ...    0.0   \n",
      "\n",
      "   zucker  zuehlke  zuko  zukovsky  zulu  zweibel  zwick  zwigoff  zycie  \n",
      "0     0.0      0.0   0.0       0.0   0.0      0.0    0.0      0.0    0.0  \n",
      "1     0.0      0.0   0.0       0.0   0.0      0.0    0.0      0.0    0.0  \n",
      "2     0.0      0.0   0.0       0.0   0.0      0.0    0.0      0.0    0.0  \n",
      "3     0.0      0.0   0.0       0.0   0.0      0.0    0.0      0.0    0.0  \n",
      "4     0.0      0.0   0.0       0.0   0.0      0.0    0.0      0.0    0.0  \n",
      "\n",
      "[5 rows x 33507 columns]\n"
     ]
    }
   ],
   "source": [
    "# Print the head of tfidf_df\n",
    "print(tfidf_df.head())"
   ]
  },
  {
   "cell_type": "code",
   "execution_count": 25,
   "metadata": {},
   "outputs": [
    {
     "name": "stdout",
     "output_type": "stream",
     "text": [
      "   00  000  0009f  007  03  04  05  05425  10  100  ...  zorro  zucker  \\\n",
      "0   0    0      0    0   0   0   0      0   1    1  ...      0       0   \n",
      "1   0    0      0    0   0   0   0      0   0    0  ...      0       0   \n",
      "2   0    0      0    0   0   0   0      0   0    0  ...      0       0   \n",
      "3   0    0      0    0   0   0   0      0   0    0  ...      0       0   \n",
      "4   0    0      0    0   0   0   0      0   0    0  ...      0       0   \n",
      "\n",
      "   zuehlke  zuko  zukovsky  zulu  zweibel  zwick  zwigoff  zycie  \n",
      "0        0     0         0     0        0      0        0      0  \n",
      "1        0     0         0     0        0      0        0      0  \n",
      "2        0     0         0     0        0      0        0      0  \n",
      "3        0     0         0     0        0      0        0      0  \n",
      "4        0     0         0     0        0      0        0      0  \n",
      "\n",
      "[5 rows x 33510 columns]\n"
     ]
    }
   ],
   "source": [
    "# Print the head of count_df\n",
    "print(count_df.head())"
   ]
  }
 ],
 "metadata": {
  "kernelspec": {
   "display_name": "Python 3",
   "language": "python",
   "name": "python3"
  },
  "language_info": {
   "codemirror_mode": {
    "name": "ipython",
    "version": 3
   },
   "file_extension": ".py",
   "mimetype": "text/x-python",
   "name": "python",
   "nbconvert_exporter": "python",
   "pygments_lexer": "ipython3",
   "version": "3.7.3"
  }
 },
 "nbformat": 4,
 "nbformat_minor": 2
}
