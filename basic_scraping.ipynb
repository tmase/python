{
 "cells": [
  {
   "cell_type": "markdown",
   "metadata": {},
   "source": [
    "# The biggest hurdle for me in getting this to work on my Windows machine was downloading the Chrome webdriver and putting it in the right spot. \n",
    "# Download from here: https://sites.google.com/a/chromium.org/chromedriver/downloads\n",
    "# Then place in c:/windows/system32 folder"
   ]
  },
  {
   "cell_type": "code",
   "execution_count": 1,
   "metadata": {
    "collapsed": true
   },
   "outputs": [],
   "source": [
    "import numpy as np\n",
    "import pandas as pd\n",
    "from selenium import webdriver"
   ]
  },
  {
   "cell_type": "code",
   "execution_count": 2,
   "metadata": {
    "collapsed": true
   },
   "outputs": [],
   "source": [
    "browser = webdriver.Chrome()\n",
    "browser.get('https://www.hyperledger.org/members')"
   ]
  },
  {
   "cell_type": "code",
   "execution_count": 3,
   "metadata": {},
   "outputs": [
    {
     "name": "stdout",
     "output_type": "stream",
     "text": [
      "PDX Technologies, Inc.\n",
      "Coinplug\n",
      "Orange Magic Cube\n",
      "TMX\n",
      "MonetaGo\n",
      "Baoquan.com\n",
      "Tradeshift\n",
      "State Street\n",
      "Cloudsoft\n",
      "Beijing AiYi Digital Finance Technology\n",
      "Belink\n",
      "Cisco\n",
      "Broadridge Financial Solutions\n",
      "R3\n",
      "Gem\n",
      "Samsung SDS\n",
      "Fujitsu Limited\n",
      "Bloq\n",
      "SWIFT\n",
      "Ribbit.me\n",
      "Tai Cloud Corp\n",
      "DTCC\n",
      "Libra\n",
      "Cisco\n",
      "Yunphant Blockchain\n",
      "Change Healthcare\n",
      "BITSE\n",
      "Digital Asset\n",
      "Baidu\n",
      "BLOCKO Inc.\n",
      "Global Peersafe Technology Corp.\n",
      "Moscow Exchange\n",
      "SAP\n",
      "ANZ Bank\n",
      "Energy Blockchain Laboratory\n",
      "Deutsche Börse AG\n",
      "Cornell University\n",
      "CLS\n",
      "Intel\n",
      "Daimler\n",
      "Korea Securities Depository\n",
      "Norbloc\n",
      "itBit\n",
      "London Stock Exchange Group\n",
      "Eurostep Holdings Ltd.\n",
      "NEC\n",
      "Wanda Financial Group\n",
      "Soramitsu\n",
      "Thomson Reuters\n",
      "MIRACL UK Limited\n",
      "PDX Technologies, Inc.\n",
      "Cuscal\n",
      "Accenture\n",
      "Mitsubishi UFJ Financial Group (MUFG)\n",
      "American Express\n",
      "IBM\n",
      "Wutongtree\n"
     ]
    }
   ],
   "source": [
    "for a in browser.find_elements_by_class_name(\"testimonial_rotator_slide_title\"):\n",
    "    print(a.get_attribute('innerHTML'))"
   ]
  },
  {
   "cell_type": "code",
   "execution_count": 40,
   "metadata": {
    "collapsed": true
   },
   "outputs": [],
   "source": [
    "browser.close()"
   ]
  }
 ],
 "metadata": {
  "kernelspec": {
   "display_name": "Python 3",
   "language": "python",
   "name": "python3"
  },
  "language_info": {
   "codemirror_mode": {
    "name": "ipython",
    "version": 3
   },
   "file_extension": ".py",
   "mimetype": "text/x-python",
   "name": "python",
   "nbconvert_exporter": "python",
   "pygments_lexer": "ipython3",
   "version": "3.6.4"
  }
 },
 "nbformat": 4,
 "nbformat_minor": 2
}
